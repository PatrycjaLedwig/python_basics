{
 "cells": [
  {
   "cell_type": "markdown",
   "metadata": {
    "id": "p6bOMNt5fz27"
   },
   "source": []
  },
  {
   "cell_type": "code",
   "execution_count": null,
   "metadata": {},
   "outputs": [],
   "source": [
    "%%capture\n",
    "!pip install otter-grader"
   ]
  },
  {
   "cell_type": "code",
   "execution_count": null,
   "metadata": {},
   "outputs": [],
   "source": [
    "%%capture\n",
    "files = \"https://github.com/mateuszwyszynski/python_basics/raw/main/week_1/tests.zip\"\n",
    "!wget -O ./tests.zip $files && unzip -o tests.zip"
   ]
  },
  {
   "cell_type": "code",
   "execution_count": null,
   "metadata": {
    "id": "Udcxvkanfz29"
   },
   "outputs": [],
   "source": [
    "import otter\n",
    "grader = otter.Notebook()"
   ]
  },
  {
   "cell_type": "markdown",
   "metadata": {
    "id": "qxStU20R-OTH"
   },
   "source": [
    "# 1. Python i Data Science\n",
    "\n",
    "\n",
    "W rozległej dziedzinie jaką jest Data Science Python jest jednym z najlepszych i najbardziej przydatnych narzędzi. Zaraz za nim jest język R, który od lat jest używany głównie przez statystyków. Wśród osób zajmujących się analizą danych od lat trwają spory, które narzędzie jest lepsze. Odpowiedź na to pytanie jest bardzo złożona i zależy m.in. od problemu jaki chcemy rozwiązać. Na tych zajęciach będziemy programowali w Pythonie, dlatego poniżej przedstawimy najważniejsze zalety tego języka programowania:\n",
    "\n",
    "  1. **Python jest językiem bardzo uniwersalnym.**\n",
    "\n",
    "    Możemy wykorzystywać go z powodzeniem jako pakiet statystyczny do przeprowadzania analiz statystycznych oraz tworzyć przejrzyste i interaktywne wykresy dzięki bibliotece Plotly. Ponadto w obszarze data science biblioteki NumPy oraz Pandas wykorzystywane są do przekształcania danych i szybkich obliczeń. Z drugiej strony korzystając z Pythona możemy napisać kompletną aplikację komputerową.\n",
    "\n",
    "  2. **Łatwy do czytania, nauki i pisania**\n",
    "  \n",
    "  Python to język programowania wysokiego poziomu, który ma składnię zbliżoną do języka angielskiego. Ułatwia to czytanie i zrozumienie kodu.\n",
    "  Python jest naprawdę łatwy do opanowania i nauczenia, dlatego wiele osób poleca Pythona początkującym. Do wykonania tego samego zadania potrzeba mniej linii kodu niż w przypadku innych głównych języków, takich jak C/C++ i Java.\n",
    "  3. **Język interpretowany**\n",
    "  \n",
    "  Python jest językiem interpretowanym, co oznacza, że Python bezpośrednio wykonuje kod linia po linii. W przypadku jakiegokolwiek błędu zatrzymuje dalsze wykonywanie i zgłasza błąd, który wystąpił.\n",
    "  Python pokazuje tylko jeden błąd, nawet jeśli program zawiera wiele błędów. Ułatwia to debugowanie.\n",
    "\n"
   ]
  },
  {
   "cell_type": "markdown",
   "metadata": {
    "id": "g8lCzXxAI9P5"
   },
   "source": [
    "# 2. Idea programowania\n",
    "\n",
    "W dalszej części tego kursu postaramy się zmienić Cię w osobę biegłą w sztuce programowania. W końcu zostaniesz programistą – być może nie profesjonalnym programistą, ale przynajmniej będziesz miał umiejętności, aby spojrzeć na problem analizy danych/informacji i opracować program, który go rozwiąże.\n",
    "\n",
    "W pewnym sensie, aby zostać programistą, potrzebujesz dwóch umiejętności:\n",
    "\n",
    "1. Najpierw musisz znać język programowania (Python) - musisz znać słownictwo i gramatykę. Musisz być w stanie poprawnie przeliterować słowa w tym języku i umieć konstruować dobrze sformułowane „zdania” w tym języku.\n",
    "\n",
    "2. Po drugie, musisz „opowiedzieć historię”. Pisząc historię, łączysz słowa i zdania, aby przekazać czytelnikowi pomysł. W konstruowaniu historii są umiejętności i sztuka, a umiejętność pisania opowieści jest ulepszana poprzez pisanie i uzyskiwanie informacji zwrotnych. W programowaniu nasz program to „historia”, a problem, który próbujesz rozwiązać, to „pomysł”.\n",
    "\n",
    "Gdy nauczysz się jednego języka programowania, takiego jak Python, znacznie łatwiej będzie Ci nauczyć się drugiego języka programowania, takiego jak JavaScript lub C++. Nowy język programowania ma często inne słownictwo i gramatykę, **ale umiejętności rozwiązywania problemów będą takie same we wszystkich językach programowania.**\n",
    "\n",
    "Dość szybko nauczysz się „słownictwa” i „zdań” Pythona. Napisanie spójnego programu rozwiązującego zupełnie nowy problem zajmie Ci więcej czasu. Uczymy się programowania podobnie jak uczymy się pisania. Zaczynamy czytać i wyjaśniać programy, potem piszemy proste programy, a potem z biegiem czasu piszemy coraz bardziej złożone programy. W pewnym momencie widzisz wzorce na własną rękę i możesz zobaczyć bardziej naturalnie, jak ugryźć problem i napisać program, który go rozwiąże. A kiedy dojdziesz do tego punktu, programowanie staje się bardzo przyjemnym i kreatywnym procesem.\n",
    "\n",
    "\n",
    "\n",
    "\n"
   ]
  },
  {
   "cell_type": "markdown",
   "metadata": {
    "id": "AahyujQrvKMu"
   },
   "source": [
    "# Zastrzeżone słowa kluczowe\n",
    "Każdy język programowania ma określone reguły, których trzeba przestrzegać pisząc w tym języku. W każdym języku, jest też lista wyrazów, które dla tego języka mają szczególne znaczenie - są to tak zwane `zastrzeżone słowa kluczowe` (reserved keywords). Słowa te mają określone znaczenie i nie mogą go zmienić. W szczególności żadne ze słów kluczowych nie może być użyte do nazwania zmiennej (o czym później)."
   ]
  },
  {
   "cell_type": "code",
   "execution_count": null,
   "metadata": {
    "colab": {
     "base_uri": "https://localhost:8080/"
    },
    "id": "I39jbIzu5uMd",
    "outputId": "4a60dac0-990c-460e-cdaa-d5c6d0cc7688"
   },
   "outputs": [],
   "source": [
    "help('keywords')"
   ]
  },
  {
   "cell_type": "markdown",
   "metadata": {
    "id": "GTK2BWIi6fQT"
   },
   "source": [
    "# Interpreter i kompilator\n",
    "\n",
    "Python to język wysokiego poziomu, który ma być stosunkowo prosty do czytania i pisania dla ludzi. Inne języki wysokiego poziomu to Java, C++, PHP, Ruby, Basic, Perl, JavaScript. Rzeczywisty sprzęt wewnątrz jednostki centralnej (CPU) nie rozumie żadnego z tych języków wysokiego poziomu.\n",
    "\n",
    "Procesor rozumie język, który nazywamy `językiem maszynowym`. Język maszynowy jest bardzo prosty i, szczerze mówiąc, bardzo męczący w pisaniu, ponieważ jest reprezentowany przez zera i jedynki:\n",
    "\n",
    "001010001110100100101010000001111\n",
    "\n",
    "11100110000011101010010101101101\n",
    "...\n",
    "\n",
    "\n",
    "Pomimo tego, że język maszynowy składa się tylko z zer i jedynek, to jego składnia jest bardziej złożona i znacznie bardziej zawiła niż Python. Bardzo niewielu programistów kiedykolwiek pisze program w języku maszynowym. Zamiast tego budujemy różne translatory, aby umożliwić programistom pisanie w językach wysokiego poziomu, takich jak Python lub JavaScript, a te translatory konwertują programy na język maszynowy w celu rzeczywistego wykonania przez procesor.\n",
    "\n",
    "Te translatory języka programowania dzielą się na dwie ogólne kategorie:\n",
    "\n",
    "\n",
    "*   interpretery,\n",
    "*   kompilatory.\n",
    "\n",
    "**Kompilator** to program komputerowy, który przekształca kod napisany w języku programowania wysokiego poziomu na kod maszynowy. Jest to program, który tłumaczy kod czytelny dla człowieka na język zrozumiały dla procesora komputera (bity binarne 1 i 0). Komputer przetwarza kod maszynowy w celu wykonania odpowiednich zadań.\n",
    "\n",
    "Kompilator powinien być zgodny z regułą składni języka programowania, w którym jest napisany. Jednak kompilator jest tylko programem i nie może naprawić błędów znalezionych w tym programie. Tak więc, jeśli popełnisz błąd, musisz wprowadzić zmiany w składni swojego programu. W przeciwnym razie nie skompiluje się.\n",
    "\n",
    "**Interpreter** to program komputerowy, który przekształca każdą instrukcję programu wysokiego poziomu na kod maszynowy. Obejmuje to kod źródłowy, wstępnie skompilowany kod i skrypty. Zarówno kompilator, jak i interpretery wykonują tę samą pracę, która polega na konwersji języka programowania wyższego poziomu na kod maszynowy. Jednak kompilator przekonwertuje kod na kod maszynowy (utworzy plik exe) przed uruchomieniem programu. Interpretery konwertują kod na kod maszynowy po uruchomieniu programu.\n",
    "\n",
    "Python jest językiem interpretowanym. Interpreter Pythona jest napisany w języku wysokiego poziomu o nazwie „C”. Możesz spojrzeć na rzeczywisty kod źródłowy interpretera Pythona, przechodząc do www.python.org. Zatem Python sam w sobie jest programem i jest kompilowany do kodu maszynowego. \n",
    "\n",
    "Dla zainteresowanych dokładniejsze różnice pomiędzy interpreterem a kompilatorem można znaleźć w artykule: https://www.guru99.com/difference-compiler-vs-interpreter.html\n",
    "\n"
   ]
  },
  {
   "cell_type": "markdown",
   "metadata": {
    "id": "c0F_DRuN6_6o"
   },
   "source": [
    "# Program komputerowy\n",
    "\n",
    "**Program komputerowy** to sekwencja instrukcji w języku programowania, którą komputer może wykonać lub zinterpretować. (https://en.wikipedia.org/wiki/Computer_program)\n",
    "\n",
    "Poniżej znajdue się przykładowy program napisany w Pythonie, który wyświetla napis \"Hello, World!\""
   ]
  },
  {
   "cell_type": "code",
   "execution_count": null,
   "metadata": {
    "colab": {
     "base_uri": "https://localhost:8080/"
    },
    "id": "yTiqQW2QQfoX",
    "outputId": "adc6becb-35b3-425b-e862-8250e437c447"
   },
   "outputs": [],
   "source": [
    "print(\"Hello, World!\")"
   ]
  },
  {
   "cell_type": "code",
   "execution_count": null,
   "metadata": {
    "colab": {
     "base_uri": "https://localhost:8080/"
    },
    "id": "IjN8dnE-sGZZ",
    "outputId": "c2ce9f49-4501-42a1-8abb-f92496e6a13a"
   },
   "outputs": [],
   "source": [
    "print(\"Hello, World!\" * 2)"
   ]
  },
  {
   "cell_type": "markdown",
   "metadata": {
    "id": "3PpxRGFtQtjC"
   },
   "source": [
    "Funkcja odpowiedzialna za wyświetlenie napisu na ekranie nazywa się *print()*. Możemy dowiedzieć się o niej więcej wpisując komendę:"
   ]
  },
  {
   "cell_type": "code",
   "execution_count": null,
   "metadata": {
    "colab": {
     "base_uri": "https://localhost:8080/"
    },
    "id": "cuAn2NhPSkfN",
    "outputId": "b4de86e7-5299-4c97-e63a-3b0f3d7d2869"
   },
   "outputs": [],
   "source": [
    "help('print')"
   ]
  },
  {
   "cell_type": "markdown",
   "metadata": {
    "id": "ajA1Mw-gYFqE"
   },
   "source": [
    "Dowiadujemy się stąd, że funkcja `print()` w Pythonie, przyjmuje `value`, który później jest wyświetlany na ekranie. Oprócz tego ma jeszce parę innych argumentów. Interesujący jest argument `sep`, który decyduje o tym co rozdziela kolejne napisy (value) i domyślnie jest to spacja.\n",
    "\n",
    "Notebooki google są na tyle inteligentne, że same wyświetlają kawałek dokumentacji funkcji, gdy zaczynamy ją wpisaywać. "
   ]
  },
  {
   "cell_type": "markdown",
   "metadata": {
    "id": "43FB-WFAVWXj"
   },
   "source": [
    "Poniżej znajduje się pare prostych przykładów z użyciem funkcji `*print()*`."
   ]
  },
  {
   "cell_type": "code",
   "execution_count": null,
   "metadata": {
    "colab": {
     "base_uri": "https://localhost:8080/"
    },
    "id": "ueBId7R-UBKD",
    "outputId": "7b271df6-fe6b-4a0a-96b1-ebe9956501c4"
   },
   "outputs": [],
   "source": [
    "print('Hello', 'World!', sep = ', ')  #efekt taki sam jak wyżej"
   ]
  },
  {
   "cell_type": "code",
   "execution_count": null,
   "metadata": {
    "colab": {
     "base_uri": "https://localhost:8080/"
    },
    "id": "F98rHKcvWOVJ",
    "outputId": "6e2b863f-8e50-4064-f009-3231e72e0864"
   },
   "outputs": [],
   "source": [
    "print('USA', 'Canada', 'Germany', 'France', 'Japan')"
   ]
  },
  {
   "cell_type": "code",
   "execution_count": null,
   "metadata": {
    "colab": {
     "base_uri": "https://localhost:8080/"
    },
    "id": "iDsH-XObV9sA",
    "outputId": "955f9b94-d5f1-4c81-d3ed-5f872a1730ec"
   },
   "outputs": [],
   "source": [
    "print(\"USA\")\n",
    "print(\"Canada\")\n",
    "print(\"Germany\")\n",
    "print(\"France\")\n",
    "print(\"Japan\")"
   ]
  },
  {
   "cell_type": "markdown",
   "metadata": {},
   "source": [
    "_Type your answer here, replacing this text._"
   ]
  },
  {
   "cell_type": "code",
   "execution_count": null,
   "metadata": {
    "id": "P_YEO06nfz3H",
    "outputId": "c835fe56-d407-4a7d-a585-79c43ee3be82",
    "tags": []
   },
   "outputs": [],
   "source": [
    "..."
   ]
  },
  {
   "cell_type": "markdown",
   "metadata": {
    "id": "B1zZWeDmpBKH"
   },
   "source": [
    "**Zadanie 2.** Napisz jednolinikowy program, który `50 razy` wyświetla słowo `\"Python\"`, odzielone przecinkami."
   ]
  },
  {
   "cell_type": "code",
   "execution_count": null,
   "metadata": {
    "id": "bvc5JasZpYSs",
    "outputId": "003ba9da-9b79-469f-de59-33e2bef623ec",
    "tags": []
   },
   "outputs": [],
   "source": [
    "..."
   ]
  },
  {
   "cell_type": "markdown",
   "metadata": {
    "id": "JNfLWoTebtcw"
   },
   "source": [
    "# Debugowanie\n",
    "\n",
    "Podczas pisania programów w Pythonie bardzo często okazuję się, że po uruchomieniu instrukcji wyskakuje błąd.\n",
    "\n",
    "Przykład:\n",
    "\n",
    "\n",
    "\n"
   ]
  },
  {
   "cell_type": "code",
   "execution_count": null,
   "metadata": {
    "id": "o4v0kO-Efz3J",
    "outputId": "924fc524-cc31-47cf-ca0d-6c076f1be346"
   },
   "outputs": [],
   "source": [
    "primt('Hello, World!')"
   ]
  },
  {
   "cell_type": "markdown",
   "metadata": {
    "id": "mD8XHI9ddPMJ"
   },
   "source": [
    "Wyskoczył błąd z kategorii `\"NameError\"`. Sugeruje on, że instrukcja w naszym programie, zawiera nazwę `\"primt\"`, która nie jest zdefiniowana. Rzeczywiście, w powyższym programie nigdzie nie definiowaliśmy, czym jest `\"primt\"` a w szczególności, nie jest to wbudowana funkcja w Pythonie (w odróżnieniu od `print()`). Naturalne więc, że wyskakuje błąd.\n",
    "\n",
    "Bardzo często pojawiają się również inne typy błędów np.:\n",
    "\n",
    "* `SyntaxError`\n",
    "* `LogicError`\n",
    "* `SemanticError`\n",
    "\n",
    "Podczas pisania programów, bardzo często najwięcej czasu poświęcamy właśnie na naprawianiu błędów, czyli `**debugowaniu**`. Umiejętność szybkiego debugowania kodu jest bardzo cenna w pracy informatyka."
   ]
  },
  {
   "cell_type": "markdown",
   "metadata": {
    "id": "Cr-v6OCWgVkm"
   },
   "source": [
    "# Zmienne\n",
    "\n",
    "`Zmienne` służą do przechowywania informacji, do których można się odwoływać i manipulować nimi w programie komputerowym. Zapewniają również sposób oznaczania danych opisową nazwą, dzięki czemu nasze programy mogą być lepiej rozumiane przez czytelnika i nas samych. Pomocne jest myślenie o zmiennych jako o kontenerach przechowujących informacje. Ich jedynym celem jest etykietowanie i przechowywanie danych w pamięci. Te dane mogą być następnie wykorzystywane w całym programie.\n",
    "Aby stworzyć zmienną, wystarczy nadać jej nazwę i przyrównać do wartości, jaką chcemy żeby przyjmowała. Wartością moze byc np. liczba lub tekst (string, w skócie str).\n",
    "\n",
    "**Uwaga!** `Zastrzeżone słowa kluczowe` (reserved keywords) nie mogą być użyte do nazywania zmiennej.\n",
    "\n",
    "Przykład:\n",
    "\n"
   ]
  },
  {
   "cell_type": "code",
   "execution_count": null,
   "metadata": {
    "colab": {
     "base_uri": "https://localhost:8080/"
    },
    "id": "i4Mg4ujoguQb",
    "outputId": "587c737e-9e6a-4796-a438-8cd319f9c13b"
   },
   "outputs": [],
   "source": [
    "x = 6  ## przypisuję wartość 6 zmiennej x\n",
    "y = \"Programowanie jest super!\"  ## przypisuję tekst zmiennej y\n",
    "print(x)\n",
    "print(y)\n"
   ]
  },
  {
   "cell_type": "markdown",
   "metadata": {
    "id": "WZzzTA7Dhawq"
   },
   "source": [
    "Zauważ, że chcąc wyświetlić wartość zmiennej funkcją `print()` w argumencie tej funkcji wpisliśmy nazwę tej zmiennej bez cudzysłowu. Gdybyśmy użyli cudzysłowu efekt byłby następujący:"
   ]
  },
  {
   "cell_type": "code",
   "execution_count": null,
   "metadata": {
    "colab": {
     "base_uri": "https://localhost:8080/"
    },
    "id": "kiUVebqSg5cO",
    "outputId": "65450c5f-f07b-4d5c-c818-b129cf40f99e"
   },
   "outputs": [],
   "source": [
    "x = 6  ## przypisuję wartość 6 zmiennej x\n",
    "y = \"Programowanie jest super!\"  ## przypisuję tekst zmiennej y\n",
    "print('x')\n",
    "print('y')"
   ]
  },
  {
   "cell_type": "markdown",
   "metadata": {
    "id": "07yUdikUkkoK"
   },
   "source": [
    "Na zmiennych możemy wykonywać różne działania, np. mnożenie, dzielenie, potęgowanie itd.\n"
   ]
  },
  {
   "cell_type": "code",
   "execution_count": null,
   "metadata": {
    "colab": {
     "base_uri": "https://localhost:8080/"
    },
    "id": "h5wB1q-DkteX",
    "outputId": "76f8e53c-c117-42cc-8d76-12d1a501e687"
   },
   "outputs": [],
   "source": [
    "x = 6\n",
    "print(x*x)"
   ]
  },
  {
   "cell_type": "markdown",
   "metadata": {
    "id": "mECEWCxAl_Ll"
   },
   "source": [
    "# Operacje arytmetyczne na zmiennych\n",
    "\n",
    "\n",
    "\n",
    "*   '+' dodawanie\n",
    "*   '-' odejmowanie\n",
    "* '*' mnożenie\n",
    "* '/' dzielenie\n",
    "* '%' modulo (zwraca resztę z dzielenia)\n",
    "* '**' potęgowanie\n",
    "\n"
   ]
  },
  {
   "cell_type": "markdown",
   "metadata": {
    "id": "G7AW9t-4lGbS"
   },
   "source": [
    "Zmienna `x` zadeklarowana powyżej, może zostać użyta później w programie i zmienić wartość:"
   ]
  },
  {
   "cell_type": "code",
   "execution_count": null,
   "metadata": {
    "colab": {
     "base_uri": "https://localhost:8080/"
    },
    "id": "6qD-mJYdkyNY",
    "outputId": "367bdabe-aa09-4cf6-932d-248d3e962cee"
   },
   "outputs": [],
   "source": [
    "x = x+1\n",
    "print(x)"
   ]
  },
  {
   "cell_type": "code",
   "execution_count": null,
   "metadata": {
    "colab": {
     "base_uri": "https://localhost:8080/"
    },
    "id": "Kwkpc9nqk32-",
    "outputId": "aa5cb887-7c4d-42ce-e22d-b09b9232e670"
   },
   "outputs": [],
   "source": [
    "x = (x+1)*2\n",
    "print(x)"
   ]
  },
  {
   "cell_type": "code",
   "execution_count": null,
   "metadata": {
    "colab": {
     "base_uri": "https://localhost:8080/"
    },
    "id": "4IqxERS8lUXg",
    "outputId": "4309321f-2fad-4ff9-8d0e-69522c774cfb"
   },
   "outputs": [],
   "source": [
    "x = 4\n",
    "x**2  #znak potęgowania to **, a nie ^\n",
    "print(x)"
   ]
  },
  {
   "cell_type": "code",
   "execution_count": null,
   "metadata": {
    "colab": {
     "base_uri": "https://localhost:8080/"
    },
    "id": "_QcOO6uhldhl",
    "outputId": "c21e9575-645d-40fb-e6e3-96af5f4f2f80"
   },
   "outputs": [],
   "source": [
    "x = 4\n",
    "y = 5\n",
    "print(x**y)"
   ]
  },
  {
   "cell_type": "markdown",
   "metadata": {
    "id": "Jg3BpxHbfz3N"
   },
   "source": [
    "Komenda `%` służy do wykonania operacji `modulo`. Zwraca ona resztę z dzielenia."
   ]
  },
  {
   "cell_type": "code",
   "execution_count": null,
   "metadata": {
    "colab": {
     "base_uri": "https://localhost:8080/"
    },
    "id": "UoUuijtElt5X",
    "outputId": "c851e752-9aae-47cf-8667-c74bac60a5e5"
   },
   "outputs": [],
   "source": [
    "20%4  #zwraca resztę z dzielenie 20 przez 4"
   ]
  },
  {
   "cell_type": "code",
   "execution_count": null,
   "metadata": {
    "colab": {
     "base_uri": "https://localhost:8080/"
    },
    "id": "yAwtf154moF8",
    "outputId": "c92a32f6-23ec-4699-b633-853c76d6694a"
   },
   "outputs": [],
   "source": [
    "x = 11\n",
    "y = 2\n",
    "print(x%y)  #reszta z dzielenia 11 przez 2"
   ]
  },
  {
   "cell_type": "markdown",
   "metadata": {
    "id": "2CqI0RdWuvhj"
   },
   "source": [
    "**Zadanie 3.** Znajdź błąd w poniższym programie:"
   ]
  },
  {
   "cell_type": "code",
   "execution_count": null,
   "metadata": {
    "id": "JKpMG0atfz3O",
    "outputId": "f73faa32-f8aa-48b8-febc-6aee14e78a21"
   },
   "outputs": [],
   "source": [
    "lambda = 6\n",
    "print(lambda)"
   ]
  },
  {
   "cell_type": "markdown",
   "metadata": {
    "id": "xL2K-MpAlvoC"
   },
   "source": [
    "# Funkcja *input()*\n",
    "\n",
    "Funkcja `input()` umożliwia interakcję użytkownika z programem. Jako argument przyjmuje napis, który ma zostać wyświetlony użytkownikowi. \n",
    "\n",
    "Poniższy program zapyta Cię o imię, a po wpisaniu i naciśnięciu Enter wyświetli je na ekranie.\n"
   ]
  },
  {
   "cell_type": "code",
   "execution_count": null,
   "metadata": {
    "id": "9ngURhUFnJKg"
   },
   "outputs": [],
   "source": [
    "x = input('Enter your name: ')   #program zapyta Cię o imię\n",
    "print('Hello, ' + x)"
   ]
  },
  {
   "cell_type": "markdown",
   "metadata": {
    "id": "33pNeGrAgDab"
   },
   "source": [
    "Funkcja input() zawsze traktuje wpisany argument jako `str` (string, czyli tekst). Spróbuj to sprawdzić, tzn. wpisz dowolną liczbę po uruchomieniu poniższej komórki, i zobacz czy jej typ to `str`. "
   ]
  },
  {
   "cell_type": "code",
   "execution_count": null,
   "metadata": {
    "colab": {
     "base_uri": "https://localhost:8080/"
    },
    "id": "Js1l8u0ygdJ9",
    "outputId": "a18f5819-c42d-4c54-abe6-64cf25cd3912"
   },
   "outputs": [],
   "source": [
    "x = input(\"Wpisz jakąs liczbę\")\n",
    "print(type(x))"
   ]
  },
  {
   "cell_type": "markdown",
   "metadata": {
    "id": "mSNxFRNlhH_V"
   },
   "source": [
    "Aby przekształcić zmienną x na `liczbę całkowitą` (int), wystarczy poniższa komenda:"
   ]
  },
  {
   "cell_type": "code",
   "execution_count": null,
   "metadata": {
    "id": "efrwYlplhQSL"
   },
   "outputs": [],
   "source": [
    "x = int(x)\n",
    "type(x)"
   ]
  },
  {
   "cell_type": "code",
   "execution_count": null,
   "metadata": {
    "id": "P3RWmSiLfz3P"
   },
   "outputs": [],
   "source": [
    "x = '5' # string\n",
    "y = 5 # int"
   ]
  },
  {
   "cell_type": "markdown",
   "metadata": {},
   "source": [
    "Więcej o typach zmiennych dowiesz się na późniejszych zajęciach."
   ]
  },
  {
   "cell_type": "markdown",
   "metadata": {
    "id": "SxKbBg5nfz3Q"
   },
   "source": [
    "**Zadanie 4.** Napisz program, który wyświetla tekst wpisany przez użytkownika, tyle razy ile określi. Program ma przyjmować dwie zmienne wpisywane przez użytkownika. Pierwsza z nich, `x` ma oznaczać tekst, który użytkownik chce żeby był wyświetlany, a druga, `y`, liczbę ile razy ten tekst ma pojawić się na ekranie. \n",
    "**Na przykład dla danych wejściowych:**\n",
    "Nauczę się programować!\n",
    "\n",
    "3\n",
    "\n",
    "\n",
    "**Prawidłową odpowiedzią jest:**\n",
    "\n",
    "Nauczę się programować! Nauczę się programować! Nauczę się programować!"
   ]
  },
  {
   "cell_type": "code",
   "execution_count": null,
   "metadata": {
    "id": "ewvL4vk2nnzL",
    "tags": []
   },
   "outputs": [],
   "source": [
    "### TO DO ###\n",
    "x = int(input()) # int() zapewnia by input byl liczba, a nie stringiem, \n",
    "y = ...\n",
    "...\n",
    "### END ###\n",
    "\n"
   ]
  },
  {
   "cell_type": "markdown",
   "metadata": {
    "id": "qL2-KzbDqUk7"
   },
   "source": [
    "# **Zadanie domowe**\n",
    "Napisz program, który przyjmuje dowolną liczbę naturalną `x`, a następnie resztę z dzielenia tej liczby przez 5.\n",
    "\n",
    "\n"
   ]
  },
  {
   "cell_type": "code",
   "execution_count": null,
   "metadata": {
    "id": "KZLzvVJzsYq8",
    "tags": []
   },
   "outputs": [],
   "source": [
    "def reszta(x): # nie zmieniaj tej lini\n",
    "    y = ...\n",
    "    return y # nie zmieniaj tej lini\n",
    "print(reszta(x)) # pokazuje reszte z dzielenia przez 5"
   ]
  },
  {
   "cell_type": "code",
   "execution_count": null,
   "metadata": {
    "deletable": false,
    "editable": false
   },
   "outputs": [],
   "source": [
    "grader.check(\"Q5\")"
   ]
  },
  {
   "cell_type": "markdown",
   "metadata": {
    "deletable": false,
    "editable": false
   },
   "source": [
    "---\n",
    "\n",
    "To double-check your work, the cell below will rerun all of the autograder tests."
   ]
  },
  {
   "cell_type": "code",
   "execution_count": null,
   "metadata": {
    "deletable": false,
    "editable": false
   },
   "outputs": [],
   "source": [
    "grader.check_all()"
   ]
  }
 ],
 "metadata": {
  "colab": {
   "name": "week_2.ipynb",
   "provenance": []
  },
  "kernelspec": {
   "display_name": "Python 3",
   "language": "python",
   "name": "python3"
  },
  "language_info": {
   "codemirror_mode": {
    "name": "ipython",
    "version": 3
   },
   "file_extension": ".py",
   "mimetype": "text/x-python",
   "name": "python",
   "nbconvert_exporter": "python",
   "pygments_lexer": "ipython3",
   "version": "3.9.5"
  },
  "varInspector": {
   "cols": {
    "lenName": 16,
    "lenType": 16,
    "lenVar": 40
   },
   "kernels_config": {
    "python": {
     "delete_cmd_postfix": "",
     "delete_cmd_prefix": "del ",
     "library": "var_list.py",
     "varRefreshCmd": "print(var_dic_list())"
    },
    "r": {
     "delete_cmd_postfix": ") ",
     "delete_cmd_prefix": "rm(",
     "library": "var_list.r",
     "varRefreshCmd": "cat(var_dic_list()) "
    }
   },
   "types_to_exclude": [
    "module",
    "function",
    "builtin_function_or_method",
    "instance",
    "_Feature"
   ],
   "window_display": false
  }
 },
 "nbformat": 4,
 "nbformat_minor": 1
}
