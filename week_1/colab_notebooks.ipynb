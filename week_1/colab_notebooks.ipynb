{
 "cells": [
  {
   "cell_type": "raw",
   "id": "ce51a9ac",
   "metadata": {},
   "source": [
    "# ASSIGNMENT CONFIG\n",
    "colab: true\n",
    "init_cell: false\n",
    "export_cell: false\n",
    "generate: true\n",
    "test_files: true"
   ]
  },
  {
   "cell_type": "code",
   "execution_count": 1,
   "id": "53d7d91b",
   "metadata": {},
   "outputs": [],
   "source": [
    "%%capture\n",
    "!pip install otter-grader"
   ]
  },
  {
   "cell_type": "code",
   "execution_count": 2,
   "id": "325c87fb",
   "metadata": {},
   "outputs": [
    {
     "ename": "ValueError",
     "evalue": "Tests directory ./tests does not exist",
     "output_type": "error",
     "traceback": [
      "\u001b[0;31m---------------------------------------------------------------------------\u001b[0m",
      "\u001b[0;31mValueError\u001b[0m                                Traceback (most recent call last)",
      "\u001b[0;32m<ipython-input-2-55d384fc73e4>\u001b[0m in \u001b[0;36m<module>\u001b[0;34m\u001b[0m\n\u001b[1;32m      1\u001b[0m \u001b[0;32mimport\u001b[0m \u001b[0motter\u001b[0m\u001b[0;34m\u001b[0m\u001b[0;34m\u001b[0m\u001b[0m\n\u001b[0;32m----> 2\u001b[0;31m \u001b[0mgrader\u001b[0m \u001b[0;34m=\u001b[0m \u001b[0motter\u001b[0m\u001b[0;34m.\u001b[0m\u001b[0mNotebook\u001b[0m\u001b[0;34m(\u001b[0m\u001b[0mcolab\u001b[0m \u001b[0;34m=\u001b[0m \u001b[0;32mTrue\u001b[0m\u001b[0;34m)\u001b[0m\u001b[0;34m\u001b[0m\u001b[0;34m\u001b[0m\u001b[0m\n\u001b[0m",
      "\u001b[0;32m/Library/Frameworks/Python.framework/Versions/3.9/lib/python3.9/site-packages/otter/check/utils.py\u001b[0m in \u001b[0;36mrun_function\u001b[0;34m(self, *args, **kwargs)\u001b[0m\n\u001b[1;32m    129\u001b[0m                 \u001b[0;32mexcept\u001b[0m \u001b[0mException\u001b[0m \u001b[0;32mas\u001b[0m \u001b[0me\u001b[0m\u001b[0;34m:\u001b[0m\u001b[0;34m\u001b[0m\u001b[0;34m\u001b[0m\u001b[0m\n\u001b[1;32m    130\u001b[0m                     \u001b[0mself\u001b[0m\u001b[0;34m.\u001b[0m\u001b[0m_log_event\u001b[0m\u001b[0;34m(\u001b[0m\u001b[0mevent_type\u001b[0m\u001b[0;34m,\u001b[0m \u001b[0msuccess\u001b[0m\u001b[0;34m=\u001b[0m\u001b[0;32mFalse\u001b[0m\u001b[0;34m,\u001b[0m \u001b[0merror\u001b[0m\u001b[0;34m=\u001b[0m\u001b[0me\u001b[0m\u001b[0;34m)\u001b[0m\u001b[0;34m\u001b[0m\u001b[0;34m\u001b[0m\u001b[0m\n\u001b[0;32m--> 131\u001b[0;31m                     \u001b[0;32mraise\u001b[0m \u001b[0me\u001b[0m\u001b[0;34m\u001b[0m\u001b[0;34m\u001b[0m\u001b[0m\n\u001b[0m\u001b[1;32m    132\u001b[0m                 \u001b[0;32melse\u001b[0m\u001b[0;34m:\u001b[0m\u001b[0;34m\u001b[0m\u001b[0;34m\u001b[0m\u001b[0m\n\u001b[1;32m    133\u001b[0m                     \u001b[0mself\u001b[0m\u001b[0;34m.\u001b[0m\u001b[0m_log_event\u001b[0m\u001b[0;34m(\u001b[0m\u001b[0mevent_type\u001b[0m\u001b[0;34m,\u001b[0m \u001b[0mresults\u001b[0m\u001b[0;34m=\u001b[0m\u001b[0mresults\u001b[0m\u001b[0;34m,\u001b[0m \u001b[0mquestion\u001b[0m\u001b[0;34m=\u001b[0m\u001b[0mquestion\u001b[0m\u001b[0;34m,\u001b[0m \u001b[0mshelve_env\u001b[0m\u001b[0;34m=\u001b[0m\u001b[0mshelve_env\u001b[0m\u001b[0;34m)\u001b[0m\u001b[0;34m\u001b[0m\u001b[0;34m\u001b[0m\u001b[0m\n",
      "\u001b[0;32m/Library/Frameworks/Python.framework/Versions/3.9/lib/python3.9/site-packages/otter/check/utils.py\u001b[0m in \u001b[0;36mrun_function\u001b[0;34m(self, *args, **kwargs)\u001b[0m\n\u001b[1;32m    124\u001b[0m                         \u001b[0mquestion\u001b[0m\u001b[0;34m,\u001b[0m \u001b[0mresults\u001b[0m\u001b[0;34m,\u001b[0m \u001b[0mshelve_env\u001b[0m \u001b[0;34m=\u001b[0m \u001b[0mf\u001b[0m\u001b[0;34m(\u001b[0m\u001b[0mself\u001b[0m\u001b[0;34m,\u001b[0m \u001b[0;34m*\u001b[0m\u001b[0margs\u001b[0m\u001b[0;34m,\u001b[0m \u001b[0;34m**\u001b[0m\u001b[0mkwargs\u001b[0m\u001b[0;34m)\u001b[0m\u001b[0;34m\u001b[0m\u001b[0;34m\u001b[0m\u001b[0m\n\u001b[1;32m    125\u001b[0m                     \u001b[0;32melse\u001b[0m\u001b[0;34m:\u001b[0m\u001b[0;34m\u001b[0m\u001b[0;34m\u001b[0m\u001b[0m\n\u001b[0;32m--> 126\u001b[0;31m                         \u001b[0mresults\u001b[0m \u001b[0;34m=\u001b[0m \u001b[0mf\u001b[0m\u001b[0;34m(\u001b[0m\u001b[0mself\u001b[0m\u001b[0;34m,\u001b[0m \u001b[0;34m*\u001b[0m\u001b[0margs\u001b[0m\u001b[0;34m,\u001b[0m \u001b[0;34m**\u001b[0m\u001b[0mkwargs\u001b[0m\u001b[0;34m)\u001b[0m\u001b[0;34m\u001b[0m\u001b[0;34m\u001b[0m\u001b[0m\n\u001b[0m\u001b[1;32m    127\u001b[0m                         \u001b[0mshelve_env\u001b[0m \u001b[0;34m=\u001b[0m \u001b[0;34m{\u001b[0m\u001b[0;34m}\u001b[0m\u001b[0;34m\u001b[0m\u001b[0;34m\u001b[0m\u001b[0m\n\u001b[1;32m    128\u001b[0m                         \u001b[0mquestion\u001b[0m \u001b[0;34m=\u001b[0m \u001b[0;32mNone\u001b[0m\u001b[0;34m\u001b[0m\u001b[0;34m\u001b[0m\u001b[0m\n",
      "\u001b[0;32m/Library/Frameworks/Python.framework/Versions/3.9/lib/python3.9/site-packages/otter/check/notebook.py\u001b[0m in \u001b[0;36m__init__\u001b[0;34m(self, nb_path, tests_dir, colab)\u001b[0m\n\u001b[1;32m     55\u001b[0m \u001b[0;34m\u001b[0m\u001b[0m\n\u001b[1;32m     56\u001b[0m         \u001b[0;32mif\u001b[0m \u001b[0mcolab\u001b[0m \u001b[0;32mand\u001b[0m \u001b[0;32mnot\u001b[0m \u001b[0mos\u001b[0m\u001b[0;34m.\u001b[0m\u001b[0mpath\u001b[0m\u001b[0;34m.\u001b[0m\u001b[0misdir\u001b[0m\u001b[0;34m(\u001b[0m\u001b[0mtests_dir\u001b[0m\u001b[0;34m)\u001b[0m\u001b[0;34m:\u001b[0m\u001b[0;34m\u001b[0m\u001b[0;34m\u001b[0m\u001b[0m\n\u001b[0;32m---> 57\u001b[0;31m             \u001b[0;32mraise\u001b[0m \u001b[0mValueError\u001b[0m\u001b[0;34m(\u001b[0m\u001b[0;34mf\"Tests directory {tests_dir} does not exist\"\u001b[0m\u001b[0;34m)\u001b[0m\u001b[0;34m\u001b[0m\u001b[0;34m\u001b[0m\u001b[0m\n\u001b[0m\u001b[1;32m     58\u001b[0m \u001b[0;34m\u001b[0m\u001b[0m\n\u001b[1;32m     59\u001b[0m         \u001b[0;32mif\u001b[0m \u001b[0mtype\u001b[0m\u001b[0;34m(\u001b[0m\u001b[0mself\u001b[0m\u001b[0;34m)\u001b[0m\u001b[0;34m.\u001b[0m\u001b[0m_tests_dir_override\u001b[0m \u001b[0;32mis\u001b[0m \u001b[0;32mnot\u001b[0m \u001b[0;32mNone\u001b[0m\u001b[0;34m:\u001b[0m\u001b[0;34m\u001b[0m\u001b[0;34m\u001b[0m\u001b[0m\n",
      "\u001b[0;31mValueError\u001b[0m: Tests directory ./tests does not exist"
     ]
    }
   ],
   "source": [
    "import otter\n",
    "grader = otter.Notebook(colab = True)"
   ]
  },
  {
   "cell_type": "markdown",
   "id": "64ed545e",
   "metadata": {},
   "source": [
    "# Korzystanie z Google Colab i Jupyter Notebooks\n",
    "\n",
    "## Jupyter Notebooks\n",
    "\n",
    "Podczas kursu będziemy korzystać z Notebooków takich jak ten. Pozwoli to nam przejść od razu do nauki programowania bez potrzeby instalacji oprogramowania na własnym komputerze.\n",
    "\n",
    "Notebooki składają się z komórek, które można edytować. Mamy dwa rodzaje komórek:\n",
    "\n",
    "- Markdown cells (komórki z tekstem)\n",
    "- Code cells (komórki z kodem)\n",
    "\n",
    "Spróbuj teraz włączyć tryb edycji dla tej komórki - w tym celu musisz na nią kliknąć dwa razy kursorem myszki lub zaznaczyć ją raz kursorem i potem wcisnąć `Enter`. Zobacz, że wygląd komórki uległ zmianie, a Ty możesz teraz zmienić dowolnie jej zawartość. Możesz na przykład podmienić poniżej swoje imię:\n",
    "\n",
    "Nazywam się **Mateusz**\n",
    "\n",
    "Jeśli wywołasz teraz kod tej komórki, zobaczysz swoje imię w odpowiednim miejscu. Aby wywołać kod znajdujący się w komórce, musisz nacisnąć `Shift + Enter`"
   ]
  },
  {
   "cell_type": "markdown",
   "id": "16993860",
   "metadata": {},
   "source": [
    "Zwróć uwagę, że po wywołaniu kodu zostałeś automatycznie przeniesiony do następnej komórki - możesz to rozpoznać po ramce, która jest dookoła aktualnie zaznaczonej komórki.\n",
    "\n",
    "### Rodzaje komórek\n",
    "\n",
    "#### Markdown cells\n",
    "\n",
    "Przykładem komórki z tekstem jest ta komórka, którą teraz czytasz. Służą one do opisu tego, co aktualnie dzieje się w notebooku. Przez zdecydowaną większość tego kursu komórki z tekstem będą dla Ciebie przygotowane i nie będziesz ich edytował. Będziesz to musiał zrobić jedynie, gdy będziesz przygotowywał jakiś własny projekt.\n",
    "\n",
    "#### Code cells\n",
    "\n",
    "Najważniejsze dla nas będą komórki z kodem - to tutaj dzieje się całe programowanie w Pythonie! Cała idea programowania opiera się na tym, że wykorzystujemy komputer do wykonania pewnego zadania (np. obliczeń) i możemy zapisać uzyskane efekty (np. wynik).\n",
    "\n",
    "Zobaczmy to na najprostrzym możliwym przykładzie. Poniżej obliczamy ile to jest 13 razy 7 oraz zapisujemy wynik w **zmiennej** `x`. Wywołaj teraz kod w komórce poniżej. Pamiętasz jak to zrobić? Jeśli nie, to poszukaj odpowiedzi wyżej w notebooku!"
   ]
  },
  {
   "cell_type": "code",
   "execution_count": 3,
   "id": "705cc202",
   "metadata": {},
   "outputs": [],
   "source": [
    "x = 13*7"
   ]
  },
  {
   "cell_type": "markdown",
   "id": "9ec7cd18",
   "metadata": {},
   "source": [
    "Możemy łatwo przekonać się, że Python policzył i zapamiętał nasz wynik. Zobacz, co się stanie, jeśli wywołasz następną komórkę z kodem:"
   ]
  },
  {
   "cell_type": "code",
   "execution_count": 4,
   "id": "7f0df859",
   "metadata": {},
   "outputs": [
    {
     "data": {
      "text/plain": [
       "91"
      ]
     },
     "execution_count": 4,
     "metadata": {},
     "output_type": "execute_result"
    }
   ],
   "source": [
    "x"
   ]
  },
  {
   "cell_type": "markdown",
   "id": "8ab5a74b",
   "metadata": {},
   "source": [
    "Pod komórką zobaczyłeś tak zwany **output**, czyli efekt wyjściowy wywołanego kodu. W tym przypadku Python jedynie sprawdził, jaka **wartość** jest zapisana w zmiennej `x`. Dlatego też efekt wyjściowy wywołanego kodu, to po prostu wynik działania 13 razy 7.\n",
    "\n",
    "Zobaczmy teraz, że możemy ten wynik wykorzystać do policzenia czegoś dalej:"
   ]
  },
  {
   "cell_type": "code",
   "execution_count": 5,
   "id": "d5689764",
   "metadata": {},
   "outputs": [
    {
     "data": {
      "text/plain": [
       "96"
      ]
     },
     "execution_count": 5,
     "metadata": {},
     "output_type": "execute_result"
    }
   ],
   "source": [
    "y = x + 5\n",
    "y"
   ]
  },
  {
   "cell_type": "markdown",
   "id": "5c07e013",
   "metadata": {},
   "source": [
    "Wywołanie komórki powyżej sprawia, że Python robi kilka rzeczy w podanej kolejności:\n",
    "\n",
    "- najpierw na podstawie pierwszej linijki kodu:\n",
    "1. sprawdza jaka jest aktualna wartość zmiennej `x` (jest to 91)\n",
    "2. dodaje do tej wartości 5\n",
    "3. i zapisuje wynik w zmiennej y\n",
    "- a potem na podstawie drugiej linijki kodu:\n",
    "4. sprawdza, jaka jest wartość y\n",
    "\n",
    "W efekcie otrzymujemy output: 96, czyli poprawny wynik."
   ]
  },
  {
   "cell_type": "markdown",
   "id": "ba858147",
   "metadata": {},
   "source": [
    "### Zadania w notebookach\n",
    "\n",
    "Wewnątrz notebooków są dla Ciebie przygotowane krótkie zadania, gdzie możesz sprawdzić, czy dobrze przyswoiłeś przerabiany materiał. Do zadań są napisane automatyczne testy, które od razu powiedzą Ci, czy dobrze wykonałeś zadanie :) Nie przejmuje się, jeśli Ci się nie udało! Zadania w notebooku możesz próbować rozwiązywać tyle razy, ile chcesz!\n",
    "\n",
    "Aby rozwiązać zadanie musisz umieścić swój kod w miejscu trzech kropek w komórce z kodem dla zadania i potem wywołać komórkę. Zostaniesz wtedy przeniesiony do następnej komórki, w której jest kod z naszym automatycznym graderem - gdy go wywołasz, dostaniesz informację, czy udało Ci się poprawnie zrobić zadanie :) "
   ]
  },
  {
   "cell_type": "raw",
   "id": "be308cc0",
   "metadata": {},
   "source": [
    "# BEGIN QUESTION\n",
    "name: Q1\n",
    "points: 0.5"
   ]
  },
  {
   "cell_type": "markdown",
   "id": "989987f3",
   "metadata": {},
   "source": [
    "**Zadanie 1** Zdefiniuj zmienną `z`, w której zapiszesz wynik działania 113 razy 17"
   ]
  },
  {
   "cell_type": "raw",
   "id": "8ea3fabc",
   "metadata": {},
   "source": [
    "# BEGIN SOLUTION"
   ]
  },
  {
   "cell_type": "code",
   "execution_count": 6,
   "id": "acf738df",
   "metadata": {},
   "outputs": [],
   "source": [
    "z = 113 * 17 # SOLUTION"
   ]
  },
  {
   "cell_type": "raw",
   "id": "92e10247",
   "metadata": {},
   "source": [
    "# END SOLUTION"
   ]
  },
  {
   "cell_type": "raw",
   "id": "92f91bf1",
   "metadata": {},
   "source": [
    "# BEGIN TESTS"
   ]
  },
  {
   "cell_type": "code",
   "execution_count": 7,
   "id": "96b2f0da",
   "metadata": {},
   "outputs": [
    {
     "data": {
      "text/plain": [
       "True"
      ]
     },
     "execution_count": 7,
     "metadata": {},
     "output_type": "execute_result"
    }
   ],
   "source": [
    "z == 113 * 17"
   ]
  },
  {
   "cell_type": "raw",
   "id": "d228d5cc",
   "metadata": {},
   "source": [
    "# END TESTS"
   ]
  },
  {
   "cell_type": "raw",
   "id": "e6104e2f",
   "metadata": {},
   "source": [
    "# END QUESTION"
   ]
  },
  {
   "cell_type": "markdown",
   "id": "a42434bb",
   "metadata": {},
   "source": [
    "# Pytania zamknięte\n",
    "\n",
    "Podczas pracy z notebookiem co jakiś czas napotkasz krótkie zadania do rozwiązania. Na przykład:"
   ]
  },
  {
   "cell_type": "raw",
   "id": "3af8d5fb",
   "metadata": {},
   "source": [
    "# BEGIN QUESTION\n",
    "name: Q2"
   ]
  },
  {
   "cell_type": "markdown",
   "id": "53e5f136",
   "metadata": {},
   "source": [
    "**Zadanie 1** Zdefiniuj funkcję `square`, która liczy kwadrat podanej liczby"
   ]
  },
  {
   "cell_type": "raw",
   "id": "577693dd",
   "metadata": {},
   "source": [
    "# BEGIN SOLUTION"
   ]
  },
  {
   "cell_type": "code",
   "execution_count": 8,
   "id": "a23625ce",
   "metadata": {},
   "outputs": [],
   "source": [
    "def square(x):\n",
    "    # Umieść swój kod poniżej, a potem urochom te komórkę.\n",
    "    # Następnie wykonaj kod z następnej komórki - Twoje rozwiązanie zostanie automatycznie przetestowane.\n",
    "    return x**2 # SOLUTION"
   ]
  },
  {
   "cell_type": "raw",
   "id": "6deb2cfc",
   "metadata": {},
   "source": [
    "# END SOLUTION"
   ]
  },
  {
   "cell_type": "raw",
   "id": "4263afe6",
   "metadata": {},
   "source": [
    "# BEGIN TESTS"
   ]
  },
  {
   "cell_type": "code",
   "execution_count": 9,
   "id": "bc9300b8",
   "metadata": {},
   "outputs": [
    {
     "data": {
      "text/plain": [
       "True"
      ]
     },
     "execution_count": 9,
     "metadata": {},
     "output_type": "execute_result"
    }
   ],
   "source": [
    "square(1)==1"
   ]
  },
  {
   "cell_type": "code",
   "execution_count": 10,
   "id": "bb2a1873",
   "metadata": {},
   "outputs": [
    {
     "data": {
      "text/plain": [
       "True"
      ]
     },
     "execution_count": 10,
     "metadata": {},
     "output_type": "execute_result"
    }
   ],
   "source": [
    "square(0.5)==(0.25)"
   ]
  },
  {
   "cell_type": "code",
   "execution_count": 11,
   "id": "b7399f55",
   "metadata": {},
   "outputs": [
    {
     "data": {
      "text/plain": [
       "True"
      ]
     },
     "execution_count": 11,
     "metadata": {},
     "output_type": "execute_result"
    }
   ],
   "source": [
    "square(2)==4"
   ]
  },
  {
   "cell_type": "raw",
   "id": "638c88a8",
   "metadata": {},
   "source": [
    "# END TESTS"
   ]
  },
  {
   "cell_type": "raw",
   "id": "bd9bfbe2",
   "metadata": {},
   "source": [
    "# END QUESTION"
   ]
  }
 ],
 "metadata": {
  "kernelspec": {
   "display_name": "Python 3",
   "language": "python",
   "name": "python3"
  },
  "language_info": {
   "codemirror_mode": {
    "name": "ipython",
    "version": 3
   },
   "file_extension": ".py",
   "mimetype": "text/x-python",
   "name": "python",
   "nbconvert_exporter": "python",
   "pygments_lexer": "ipython3",
   "version": "3.9.5"
  }
 },
 "nbformat": 4,
 "nbformat_minor": 5
}
