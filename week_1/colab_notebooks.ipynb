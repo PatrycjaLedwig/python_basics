{
 "cells": [
  {
   "cell_type": "code",
   "execution_count": null,
   "id": "3f065920",
   "metadata": {},
   "outputs": [],
   "source": [
    "%%capture\n",
    "!pip install otter-grader"
   ]
  },
  {
   "cell_type": "code",
   "execution_count": null,
   "id": "dae75e50",
   "metadata": {},
   "outputs": [],
   "source": [
    "import otter\n",
    "grader = otter.Notebook(colab = True)"
   ]
  },
  {
   "cell_type": "markdown",
   "id": "c14750d0",
   "metadata": {},
   "source": [
    "# Korzystanie z Google Colab i Jupyter Notebooks\n",
    "\n",
    "Podczas kursu będziemy korzystać z Notebooków taki jak ten. Pozwoli to nam przejść od razu do nauki programowania bez potrzeby instalacji oprogramowania na własnym komputerze."
   ]
  },
  {
   "cell_type": "markdown",
   "id": "8d572656",
   "metadata": {},
   "source": [
    "# Pytania zamknięte\n",
    "\n",
    "Podczas pracy z notebookiem co jakiś czas napotkasz krótkie zadania do rozwiązania. Na przykład:"
   ]
  },
  {
   "cell_type": "markdown",
   "id": "54db8949",
   "metadata": {},
   "source": [
    "**Zadanie 1** Zdefiniuj funkcję `square`, która liczy kwadrat podanej liczby"
   ]
  },
  {
   "cell_type": "code",
   "execution_count": null,
   "id": "5e5e850f",
   "metadata": {
    "tags": []
   },
   "outputs": [],
   "source": [
    "def square(x):\n",
    "    # Umieść swój kod poniżej, a potem urochom te komórkę.\n",
    "    # Następnie wykonaj kod z następnej komórki - Twoje rozwiązanie zostanie automatycznie przetestowane.\n",
    "    ..."
   ]
  },
  {
   "cell_type": "code",
   "execution_count": null,
   "id": "37c2739c",
   "metadata": {
    "deletable": false,
    "editable": false
   },
   "outputs": [],
   "source": [
    "grader.check(\"q1\")"
   ]
  },
  {
   "cell_type": "markdown",
   "id": "1799fb50",
   "metadata": {
    "deletable": false,
    "editable": false
   },
   "source": [
    "---\n",
    "\n",
    "To double-check your work, the cell below will rerun all of the autograder tests."
   ]
  },
  {
   "cell_type": "code",
   "execution_count": null,
   "id": "97ae32b7",
   "metadata": {
    "deletable": false,
    "editable": false
   },
   "outputs": [],
   "source": [
    "grader.check_all()"
   ]
  }
 ],
 "metadata": {
  "kernelspec": {
   "display_name": "Python 3",
   "language": "python",
   "name": "python3"
  },
  "language_info": {
   "codemirror_mode": {
    "name": "ipython",
    "version": 3
   },
   "file_extension": ".py",
   "mimetype": "text/x-python",
   "name": "python",
   "nbconvert_exporter": "python",
   "pygments_lexer": "ipython3",
   "version": "3.9.5"
  },
  "otter": {
   "tests": {
    "q1": {
     "name": "q1",
     "points": null,
     "suites": [
      {
       "cases": [
        {
         "code": ">>> square(1)==1\nTrue",
         "hidden": false,
         "locked": false
        },
        {
         "code": ">>> square(0.5)==(0.25)\nTrue",
         "hidden": false,
         "locked": false
        },
        {
         "code": ">>> square(2)==4\nTrue",
         "hidden": false,
         "locked": false
        }
       ],
       "scored": true,
       "setup": "",
       "teardown": "",
       "type": "doctest"
      }
     ]
    }
   }
  }
 },
 "nbformat": 4,
 "nbformat_minor": 5
}
