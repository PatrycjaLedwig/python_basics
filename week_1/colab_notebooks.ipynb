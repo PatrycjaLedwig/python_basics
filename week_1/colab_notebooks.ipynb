{
 "cells": [
  {
   "cell_type": "markdown",
   "id": "97e46a50",
   "metadata": {},
   "source": [
    "# Korzystanie z Google Colab i Jupyter Notebooks\n",
    "\n",
    "## Jupyter Notebooks\n",
    "\n",
    "Podczas kursu będziemy korzystać z Notebooków takich jak ten. Pozwoli to nam przejść od razu do nauki programowania bez potrzeby instalacji oprogramowania na własnym komputerze.\n",
    "\n",
    "Notebooki składają się z komórek, które można edytować. Mamy dwa rodzaje komórek:\n",
    "\n",
    "- Markdown cells (komórki z tekstem)\n",
    "- Code cells (komórki z kodem)\n",
    "\n",
    "Spróbuj teraz włączyć tryb edycji dla tej komórki - w tym celu musisz na nią kliknąć dwa razy kursorem myszki lub zaznaczyć ją raz kursorem i potem wcisnąć `Enter`. Zobacz, że wygląd komórki uległ zmianie, a Ty możesz teraz zmienić dowolnie jej zawartość. Możesz na przykład podmienić poniżej swoje imię:\n",
    "\n",
    "Nazywam się **Mateusz**\n",
    "\n",
    "Jeśli wywołasz teraz kod tej komórki, zobaczysz swoje imię w odpowiednim miejscu. Aby wywołać kod znajdujący się w komórce, musisz nacisnąć `Shift + Enter`"
   ]
  },
  {
   "cell_type": "markdown",
   "id": "3b47fab7",
   "metadata": {},
   "source": [
    "Zwróć uwagę, że po wywołaniu kodu zostałeś automatycznie przeniesiony do następnej komórki - możesz to rozpoznać po ramce, która jest dookoła aktualnie zaznaczonej komórki.\n",
    "\n",
    "### Rodzaje komórek\n",
    "\n",
    "#### Markdown cells\n",
    "\n",
    "Przykładem komórki z tekstem jest ta komórka, którą teraz czytasz. Służą one do opisu tego, co aktualnie dzieje się w notebooku. Przez zdecydowaną większość tego kursu komórki z tekstem będą dla Ciebie przygotowane i nie będziesz ich edytował. Będziesz to musiał zrobić jedynie, gdy będziesz przygotowywał jakiś własny projekt.\n",
    "\n",
    "#### Code cells\n",
    "\n",
    "Najważniejsze dla nas będą komórki z kodem - to tutaj dzieje się całe programowanie w Pythonie! Cała idea programowania opiera się na tym, że wykorzystujemy komputer do wykonania pewnego zadania (np. obliczeń) i możemy zapisać uzyskane efekty (np. wynik).\n",
    "\n",
    "Zobaczmy to na najprostrzym możliwym przykładzie. Poniżej obliczamy ile to jest 13 razy 7 oraz zapisujemy wynik w **zmiennej** `x`. Wywołaj teraz kod w komórce poniżej. Pamiętasz jak to zrobić? Jeśli nie, to poszukaj odpowiedzi wyżej w notebooku!"
   ]
  },
  {
   "cell_type": "code",
   "execution_count": null,
   "id": "12a2e03c",
   "metadata": {},
   "outputs": [],
   "source": [
    "x = 13*7"
   ]
  },
  {
   "cell_type": "markdown",
   "id": "aa5b46f0",
   "metadata": {},
   "source": [
    "Możemy łatwo przekonać się, że Python policzył i zapamiętał nasz wynik. Zobacz, co się stanie, jeśli wywołasz następną komórkę z kodem:"
   ]
  },
  {
   "cell_type": "code",
   "execution_count": null,
   "id": "ee8b3628",
   "metadata": {},
   "outputs": [],
   "source": [
    "x"
   ]
  },
  {
   "cell_type": "markdown",
   "id": "f3f3c083",
   "metadata": {},
   "source": [
    "Pod komórką zobaczyłeś tak zwany **output**, czyli efekt wyjściowy wywołanego kodu. W tym przypadku Python jedynie sprawdził, jaka **wartość** jest zapisana w zmiennej `x`. Dlatego też efekt wyjściowy wywołanego kodu, to po prostu wynik działania 13 razy 7.\n",
    "\n",
    "Zobaczmy teraz, że możemy ten wynik wykorzystać do policzenia czegoś dalej:"
   ]
  },
  {
   "cell_type": "code",
   "execution_count": null,
   "id": "04c9c0d3",
   "metadata": {},
   "outputs": [],
   "source": [
    "y = x + 5\n",
    "y"
   ]
  },
  {
   "cell_type": "markdown",
   "id": "92ec1499",
   "metadata": {},
   "source": [
    "Wywołanie komórki powyżej sprawia, że Python robi kilka rzeczy w podanej kolejności:\n",
    "\n",
    "- najpierw na podstawie pierwszej linijki kodu:\n",
    "1. sprawdza jaka jest aktualna wartość zmiennej `x` (jest to 91)\n",
    "2. dodaje do tej wartości 5\n",
    "3. i zapisuje wynik w zmiennej y\n",
    "- a potem na podstawie drugiej linijki kodu:\n",
    "4. sprawdza, jaka jest wartość y\n",
    "\n",
    "W efekcie otrzymujemy output: 96, czyli poprawny wynik."
   ]
  },
  {
   "cell_type": "markdown",
   "id": "8f196fee",
   "metadata": {},
   "source": [
    "### Zadania w notebookach\n",
    "\n",
    "Wewnątrz notebooków są dla Ciebie przygotowane krótkie zadania, gdzie możesz sprawdzić, czy dobrze przyswoiłeś przerabiany materiał. Do zadań są napisane automatyczne testy, które od razu powiedzą Ci, czy dobrze wykonałeś zadanie :) Nie przejmuje się, jeśli Ci się nie udało! Zadania w notebooku możesz próbować rozwiązywać tyle razy, ile chcesz!\n",
    "\n",
    "Na początek wywołaj kod w komórkach poniżej - przygotuje on naszego automatycznego gradera do oceniania Twojej pracy :)"
   ]
  },
  {
   "cell_type": "code",
   "execution_count": null,
   "id": "b6323f12",
   "metadata": {},
   "outputs": [],
   "source": [
    "%%capture\n",
    "!pip install otter-grader"
   ]
  },
  {
   "cell_type": "code",
   "execution_count": null,
   "id": "1e13a4e5",
   "metadata": {},
   "outputs": [],
   "source": [
    "%%capture\n",
    "files = \"https://github.com/mateuszwyszynski/python_basics/blob/main/week_1/tests.zip\"\n",
    "wget $files && unzip -o tests.zip"
   ]
  },
  {
   "cell_type": "code",
   "execution_count": null,
   "id": "069ffd49",
   "metadata": {},
   "outputs": [],
   "source": [
    "import otter\n",
    "grader = otter.Notebook(colab = True)"
   ]
  },
  {
   "cell_type": "markdown",
   "id": "df4817c2",
   "metadata": {},
   "source": [
    "Jeśli nie widzisz żadnych błędów, to wszystko gotowe i możemy zabrać się za rozwiązanie pierwszego zadania! Jeśli wyskoczyły Ci jakieś błędy - koniecznie skontaktuj się z nami!\n",
    "\n",
    "Zadanie możesz zobaczyć poniżej. Aby je rozwiązać musisz umieścić swój kod w miejscu trzech kropek i potem wywołać komórkę. Zostaniesz wtedy przeniesiony do następnej komórki, w której jest kod z naszym automatycznym graderem - gdy go wywołasz, dostaniesz informację, czy udało Ci się poprawnie zrobić zadanie :) "
   ]
  },
  {
   "cell_type": "markdown",
   "id": "b955f01a",
   "metadata": {},
   "source": [
    "**Zadanie 1** Zdefiniuj zmienną `z`, w której zapiszesz wynik działania 113 razy 17"
   ]
  },
  {
   "cell_type": "code",
   "execution_count": null,
   "id": "077adf18",
   "metadata": {
    "tags": []
   },
   "outputs": [],
   "source": [
    "z = ..."
   ]
  },
  {
   "cell_type": "code",
   "execution_count": null,
   "id": "040a38cd",
   "metadata": {
    "deletable": false,
    "editable": false
   },
   "outputs": [],
   "source": [
    "grader.check(\"Q1\")"
   ]
  },
  {
   "cell_type": "markdown",
   "id": "45aaf1fd",
   "metadata": {},
   "source": [
    "# Pytania zamknięte\n",
    "\n",
    "Podczas pracy z notebookiem co jakiś czas napotkasz krótkie zadania do rozwiązania. Na przykład:"
   ]
  },
  {
   "cell_type": "markdown",
   "id": "0943e72c",
   "metadata": {},
   "source": [
    "**Zadanie 1** Zdefiniuj funkcję `square`, która liczy kwadrat podanej liczby"
   ]
  },
  {
   "cell_type": "code",
   "execution_count": null,
   "id": "d613829b",
   "metadata": {
    "tags": []
   },
   "outputs": [],
   "source": [
    "def square(x):\n",
    "    # Umieść swój kod poniżej, a potem urochom te komórkę.\n",
    "    # Następnie wykonaj kod z następnej komórki - Twoje rozwiązanie zostanie automatycznie przetestowane.\n",
    "    ..."
   ]
  },
  {
   "cell_type": "code",
   "execution_count": null,
   "id": "5372b378",
   "metadata": {
    "deletable": false,
    "editable": false
   },
   "outputs": [],
   "source": [
    "grader.check(\"Q2\")"
   ]
  },
  {
   "cell_type": "markdown",
   "id": "ea226289",
   "metadata": {
    "deletable": false,
    "editable": false
   },
   "source": [
    "---\n",
    "\n",
    "To double-check your work, the cell below will rerun all of the autograder tests."
   ]
  },
  {
   "cell_type": "code",
   "execution_count": null,
   "id": "030f7c0c",
   "metadata": {
    "deletable": false,
    "editable": false
   },
   "outputs": [],
   "source": [
    "grader.check_all()"
   ]
  }
 ],
 "metadata": {
  "kernelspec": {
   "display_name": "Python 3",
   "language": "python",
   "name": "python3"
  },
  "language_info": {
   "codemirror_mode": {
    "name": "ipython",
    "version": 3
   },
   "file_extension": ".py",
   "mimetype": "text/x-python",
   "name": "python",
   "nbconvert_exporter": "python",
   "pygments_lexer": "ipython3",
   "version": "3.9.5"
  }
 },
 "nbformat": 4,
 "nbformat_minor": 5
}
