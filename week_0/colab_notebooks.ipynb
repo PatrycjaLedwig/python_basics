{
 "cells": [
  {
   "cell_type": "markdown",
   "id": "119c4407",
   "metadata": {},
   "source": [
    "# Jak korzystać z Google Colab i Jupyter Notebooks\n",
    "\n",
    "## Jupyter Notebooks\n",
    "\n",
    "Podczas kursu będziemy korzystać z Notebooków takich jak ten. Pozwoli to nam przejść od razu do nauki programowania bez potrzeby instalacji oprogramowania na własnym komputerze.\n",
    "\n",
    "Notebooki składają się z komórek, które można edytować. Mamy dwa rodzaje komórek:\n",
    "\n",
    "- Markdown cells (komórki z tekstem)\n",
    "- Code cells (komórki z kodem)\n",
    "\n",
    "Spróbuj teraz włączyć tryb edycji dla tej komórki - w tym celu musisz na nią kliknąć dwa razy kursorem myszki lub zaznaczyć ją raz kursorem i potem wcisnąć `Enter`. Zobacz, że wygląd komórki uległ zmianie, a Ty możesz teraz zmienić dowolnie jej zawartość. Możesz na przykład podmienić poniżej swoje imię:\n",
    "\n",
    "Nazywam się **Mateusz**\n",
    "\n",
    "Jeśli wywołasz teraz kod tej komórki, zobaczysz swoje imię w odpowiednim miejscu. Aby wywołać kod znajdujący się w komórce, musisz nacisnąć `Shift + Enter`"
   ]
  },
  {
   "cell_type": "markdown",
   "id": "ae0c274d",
   "metadata": {},
   "source": [
    "Zwróć uwagę, że po wywołaniu kodu zostałeś automatycznie przeniesiony do następnej komórki - możesz to rozpoznać po ramce, która jest dookoła aktualnie zaznaczonej komórki.\n",
    "\n",
    "### Rodzaje komórek\n",
    "\n",
    "#### Markdown cells\n",
    "\n",
    "Przykładem komórki z tekstem jest ta komórka, którą teraz czytasz. Służą one do opisu tego, co aktualnie dzieje się w notebooku. Przez zdecydowaną większość tego kursu komórki z tekstem będą dla Ciebie przygotowane i nie będziesz ich edytował. Będziesz to musiał zrobić jedynie, gdy będziesz przygotowywał jakiś własny projekt.\n",
    "\n",
    "#### Code cells\n",
    "\n",
    "Najważniejsze dla nas będą komórki z kodem - to tutaj dzieje się całe programowanie w Pythonie! Cała idea programowania opiera się na tym, że wykorzystujemy komputer do wykonania pewnego zadania (np. obliczeń) i możemy zapisać uzyskane efekty (np. wynik).\n",
    "\n",
    "Zobaczmy to na najprostrzym możliwym przykładzie. Poniżej obliczamy ile to jest 13 razy 7 oraz zapisujemy wynik w **zmiennej** `x`. Wywołaj teraz kod w komórce poniżej. Pamiętasz jak to zrobić? Jeśli nie, to poszukaj odpowiedzi wyżej w notebooku!"
   ]
  },
  {
   "cell_type": "code",
   "execution_count": null,
   "id": "4b03f823",
   "metadata": {},
   "outputs": [],
   "source": [
    "x = 13*7"
   ]
  },
  {
   "cell_type": "markdown",
   "id": "72149bdd",
   "metadata": {},
   "source": [
    "Możemy łatwo przekonać się, że Python policzył i zapamiętał nasz wynik. Zobacz, co się stanie, jeśli wywołasz następną komórkę z kodem:"
   ]
  },
  {
   "cell_type": "code",
   "execution_count": null,
   "id": "644df7d9",
   "metadata": {},
   "outputs": [],
   "source": [
    "x"
   ]
  },
  {
   "cell_type": "markdown",
   "id": "b688f9aa",
   "metadata": {},
   "source": [
    "Pod komórką zobaczyłeś tak zwany **output**, czyli efekt wyjściowy wywołanego kodu. W tym przypadku Python jedynie sprawdził, jaka **wartość** jest zapisana w zmiennej `x`. Dlatego też efekt wyjściowy wywołanego kodu, to po prostu wynik działania 13 razy 7.\n",
    "\n",
    "Zobaczmy teraz, że możemy ten wynik wykorzystać do policzenia czegoś dalej:"
   ]
  },
  {
   "cell_type": "code",
   "execution_count": null,
   "id": "45539355",
   "metadata": {},
   "outputs": [],
   "source": [
    "y = x + 5\n",
    "y"
   ]
  },
  {
   "cell_type": "markdown",
   "id": "9a6a3767",
   "metadata": {},
   "source": [
    "Wywołanie komórki powyżej sprawia, że Python robi kilka rzeczy w podanej kolejności:\n",
    "\n",
    "- najpierw na podstawie pierwszej linijki kodu:\n",
    "1. sprawdza jaka jest aktualna wartość zmiennej `x` (jest to 91)\n",
    "2. dodaje do tej wartości 5\n",
    "3. i zapisuje wynik w zmiennej y\n",
    "- a potem na podstawie drugiej linijki kodu:\n",
    "4. sprawdza, jaka jest wartość y\n",
    "\n",
    "W efekcie otrzymujemy output: 96, czyli poprawny wynik."
   ]
  },
  {
   "cell_type": "markdown",
   "id": "00d96a15",
   "metadata": {},
   "source": [
    "### Zadania w notebookach\n",
    "\n",
    "Wewnątrz notebooków są dla Ciebie przygotowane krótkie zadania, gdzie możesz sprawdzić, czy dobrze przyswoiłeś przerabiany materiał. Do zadań są napisane automatyczne testy, które od razu powiedzą Ci, czy dobrze wykonałeś zadanie :) Nie przejmuje się, jeśli Ci się nie udało! Zadania w notebooku możesz próbować rozwiązywać tyle razy, ile chcesz!\n",
    "\n",
    "Na początek wywołaj kod w komórkach poniżej - przygotuje on naszego automatycznego gradera do oceniania Twojej pracy :)"
   ]
  },
  {
   "cell_type": "code",
   "execution_count": null,
   "id": "9eca252f",
   "metadata": {},
   "outputs": [],
   "source": [
    "%%capture\n",
    "!pip install otter-grader"
   ]
  },
  {
   "cell_type": "code",
   "execution_count": null,
   "id": "aecc1f12",
   "metadata": {},
   "outputs": [],
   "source": [
    "%%capture\n",
    "files = \"https://github.com/mateuszwyszynski/python_basics/raw/main/week_0/tests.zip\"\n",
    "!wget -O ./tests.zip $files && unzip -o tests.zip"
   ]
  },
  {
   "cell_type": "code",
   "execution_count": null,
   "id": "15695295",
   "metadata": {},
   "outputs": [],
   "source": [
    "import otter\n",
    "grader = otter.Notebook(colab = True)"
   ]
  },
  {
   "cell_type": "markdown",
   "id": "5c3e0b08",
   "metadata": {},
   "source": [
    "Jeśli nie widzisz żadnych błędów, to wszystko gotowe i możemy zabrać się za rozwiązanie pierwszego zadania! Jeśli wyskoczyły Ci jakieś błędy - koniecznie skontaktuj się z nami!\n",
    "\n",
    "Zadanie możesz zobaczyć poniżej. Aby je rozwiązać musisz umieścić swój kod w miejscu trzech kropek i potem wywołać komórkę. Zostaniesz wtedy przeniesiony do następnej komórki, w której jest kod z naszym automatycznym graderem - gdy go wywołasz, dostaniesz informację, czy udało Ci się poprawnie zrobić zadanie :) "
   ]
  },
  {
   "cell_type": "markdown",
   "id": "39837254",
   "metadata": {},
   "source": [
    "**Zadanie 1** Zdefiniuj zmienną `z`, w której zapiszesz wynik działania 113 razy 17"
   ]
  },
  {
   "cell_type": "code",
   "execution_count": null,
   "id": "4c734d2b",
   "metadata": {
    "tags": []
   },
   "outputs": [],
   "source": [
    "z = ..."
   ]
  },
  {
   "cell_type": "code",
   "execution_count": null,
   "id": "ca2ab555",
   "metadata": {
    "deletable": false,
    "editable": false
   },
   "outputs": [],
   "source": [
    "grader.check(\"Q1\")"
   ]
  },
  {
   "cell_type": "markdown",
   "id": "757d0089",
   "metadata": {},
   "source": [
    "## Zapisywanie i otwieranie notebooków\n",
    "\n",
    "Czasem będziesz chciał zapisać notebook, na którym pracujesz - na przykład po to, by móc później wrócić do swoich rozwiązań lub oddać pracę domową.\n",
    "\n",
    "### Zapisywanie notebooka\n",
    "\n",
    "Notebooki nie zapisują się automatycznie! Google będzie pamiętał aktualny stan Twojej pracy tylko przez około 90 minut od zamknięcia przeglądarki/przerwania połączenia z internetem. Jeśli chcesz zapisać swoją pracę na stałe, musisz to zrobić sam. Masz dwie możliwości:\n",
    "\n",
    "1. zapisać notebook na swoim dysku Google\n",
    "2. zapisać notebook na swoim komputerze\n",
    "\n",
    "Do bieżącej pracy rekomendujemy Ci korzystanie z opcji 1. Masz wtedy pewność, że będziesz mógł wrócić do notebooka nawet jeśli z jakiegoś powodu zmienisz sprzęt, na którym pracujesz. Opcja nr 2 bęzie Ci potrzebna głównie do oddawania prac domowych lub projektu.\n",
    "\n",
    "#### Zapisywanie notebooka na dysku Google\n",
    "\n",
    "Aby zapisać notebook na dysku Google, musisz najechać otworzyć zakładkę _File_ w lewym górnym rogu, a następnie kliknąć _Save a copy in Drive_. Dokładna nazwa zakładki będzie zależeć od języka Twojego konta Google. Proces ten opisuje poniższy screenshot:\n",
    "\n",
    "![picture](https://github.com/mateuszwyszynski/python_basics/raw/main/week_1/save_nb_drive.jpg)\n",
    "\n",
    "#### Zapisywanie notebooka na własnym komputerze\n",
    "\n",
    "Zapisanie notebooka na swoim komputerze wygląda prawie tak samo. Znów otwieramy zakładkę _File_. Musimy teraz jedynie wybrać inną opcję: _Download_, a potem _Download .ipynb_. Widać to na poniższym screenshocie:\n",
    "\n",
    "![picture](https://github.com/mateuszwyszynski/python_basics/raw/main/week_1/save_nb_comp.jpg)\n",
    "\n",
    "### Otwieranie notebooka\n",
    "\n",
    "Jest wiele sposobów otworzenia notebooka. My omówimy tylko jeden z nich. Musisz się powoli przyzwyczajać, że w pracy z komputerem jest wiele sposobów na rozwiązanie danego problemu - zazwyczaj jeden jest lepszy w jednej sytuacji, a inny w innej. Nie należy oczekiwać, że zawsze jest jedno najlepsze rozwiąznie.\n",
    "\n",
    "Żeby otworzyć notebooka musisz przejść na stronę:\n",
    "\n",
    "https://colab.research.google.com\n",
    "\n",
    "Zobaczysz wtedy okno z kilkoma zakładkami jak na screenshocie poniżej:\n",
    "\n",
    "![picture](https://github.com/mateuszwyszynski/python_basics/raw/main/week_1/open_nb.png)\n",
    "\n",
    "Każda zakładka oferuje inną opcję otworzenia notebooka. Jak widzisz możesz przejrzeć zakładkę _Recent_, gdzie znajdziesz ostatnio otwierane przez Ciebie notebooki. Jest też zakładka _Google Drive_, gdzie możesz znaleźć notebooki, które zapisałeś na swoim dysku Google. Jest też zakładka _Upload_, która pozwala Ci wgrać notebook z własnego komputera. W zależności od sytuacji musisz wybrać najlepszą dla siebie opcję. Z pozostałych zakładek na tym kursie nie będziesz musiał korzystać, ale możesz oczywiście się z nimi zapoznać.\n",
    "\n",
    "## Pierwsze punkty do zdobycia\n",
    "\n",
    "To już koniec tego tutoriala. Wykonaj teraz ostatnie zadanie, żeby móc zdobyć pierwsze punkty z kursu."
   ]
  },
  {
   "cell_type": "markdown",
   "id": "d56fced7",
   "metadata": {},
   "source": [
    "**Zadanie 2** Upewnij się, że poprawnie rozwiązałeś Zadanie 1. Następnie zapisz ten notebook na swoim dysku Google oraz na swoim komputerze. Jeśli jesteś oficjalnie zapisany do kursu, wykonanie tego zadania pozwoli Ci za chwilę zdobyć pierwsze punkty!"
   ]
  }
 ],
 "metadata": {
  "kernelspec": {
   "display_name": "Python 3",
   "language": "python",
   "name": "python3"
  },
  "language_info": {
   "codemirror_mode": {
    "name": "ipython",
    "version": 3
   },
   "file_extension": ".py",
   "mimetype": "text/x-python",
   "name": "python",
   "nbconvert_exporter": "python",
   "pygments_lexer": "ipython3",
   "version": "3.9.5"
  }
 },
 "nbformat": 4,
 "nbformat_minor": 5
}
