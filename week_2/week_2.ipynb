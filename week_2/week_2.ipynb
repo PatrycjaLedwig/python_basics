{
 "cells": [
  {
   "cell_type": "code",
   "execution_count": null,
   "metadata": {},
   "outputs": [],
   "source": [
    "%%capture\n",
    "# !pip install otter-grader\n",
    "# files = \"https://github.com/mateuszwyszynski/python_basics/raw/main/week_2/tests.zip\"\n",
    "# !wget -o $files && unzip -o tests.zip\n",
    "# import otter\n",
    "# grader = otter.Notebook(colab=True)\n",
    "%%capture\n",
    "!git clone https://github.com/mateuszwyszynski/python_basics/\n",
    "!unzip -o /content/python_basics/week_2/tests.zip\n",
    "!cd python_basics/week_2/\n",
    "!pip install otter-grader\n",
    "import otter\n",
    "grader = otter.Notebook(colab=True)"
   ]
  },
  {
   "cell_type": "markdown",
   "metadata": {
    "id": "zp6cuxqj5KIp"
   },
   "source": [
    "## **Variables, expressions, and statements**\n",
    " **(zmienne, wyrażenia i stwierdzenia)**\n",
    "\n",
    "---\n",
    "\n"
   ]
  },
  {
   "cell_type": "markdown",
   "metadata": {
    "id": "wD9P16m54OlS"
   },
   "source": [
    "PEP czyli Python Enhancement Proposal jest oficjalnym dokumentem informacyjnym dla społeczności programistów Pythona. Dokumenty tego typu służą między innymi jako dokumentacja nowych funkcji języka. Dokument przedstawiający najlepsze praktyki i wytyczne dotyczące pisania kodu Pythonowego.\n",
    "\n",
    "Przykłady:\n",
    "* nazewnictwo:\n",
    " * klasy i wyjątki: CamelCase (CapWords), np. MyClass, MyException\n",
    " * funkcje i zmienne: snake_case, np. my_function, my_variable\n",
    " * stałe: wielkie litery, np. CPU_COUNT\n",
    "\n",
    "\n",
    "* wcięcia: 4 spacje lub odgórnie przyjęta liczba spacji (min. 1)\n",
    "\n",
    "* długość linii:\n",
    " * 72 znaki dla linii komentarza,\n",
    " * 79 znaków dla linii kodu\n",
    " \n",
    "* kolejność importów:\n",
    " * najpierw biblioteki standardowe\n",
    " * kolejno biblioteki zewnętrzne\n",
    " * na końcu biblioteki lokalne\n",
    "\n",
    "```python\n",
    "import os\n",
    "import lightgbm\n",
    "import my_azure_classes\n",
    "```\n",
    "\n",
    "Wiele obecnie stosowanych programów do pisania kodów ma wbudowane funkcje ułatwiające poprawne pisanie kodu np. PyCharm podpowiada jak i gdzie poprawić kod.\n",
    "\n",
    "\n",
    "Przydatne linki:\n",
    "* https://www.python.org/dev/peps/pep-0008/\n",
    "* https://realpython.com/python-pep8/\n",
    "* https://kamil.kwapisz.pl/gramatyka-dla-programisty/"
   ]
  },
  {
   "cell_type": "code",
   "execution_count": null,
   "metadata": {
    "id": "JqqdmndD9A6u"
   },
   "outputs": [],
   "source": [
    "# Proszę wywołać to polecenie klikając na guzik po lewej stronie lub stosująć kombinację \"ctrl + Enter\"\n",
    "import this"
   ]
  },
  {
   "cell_type": "markdown",
   "metadata": {
    "id": "-GHaLyPF4OEk"
   },
   "source": [
    "## **Nazewnictwo zmiennych i komentarze**\n",
    "\n",
    "Komentarze powinny być umieszczane w kluczowych punktach kodu lub w miejscach nieoczywistych. Komentarze ułatwiają czytanie i rozumienie kodu. Powinny być pisane w sposób zrozumiały nie tylko dla twórcy, ale i dla innych osób, które mogą potencjalnie korzystać z kodu. \n",
    "* Zalecenia:\n",
    " * Nie komentujemy oczywistych funkcji\n",
    " * Nie komentujemy oczywistych zmiennych - [Don't Repeat Yourself](https://en.wikipedia.org/wiki/Don%27t_repeat_yourself)\n",
    " * Dokonujemy aktualizacji komentarzy po aktualizacji kodu\n",
    " * Komentarz odpowiada na pytanie **Dlaczego?**\n",
    "\n",
    " Do komentowanie można używać następujących znaków:\n",
    "\n",
    "\n",
    "```python\n",
    "# W przypadku linijki kodu\n",
    "'''\n",
    "dla większego tekstu możliwe jest zastosowanie\n",
    "potrójnych apostrofów. Wtedy cały tekst ograniczony\n",
    "apostrofami będzie zakomentowany i nieaktywny.\n",
    "'''\n",
    "```\n",
    "# **Nazewnictwo zmiennych**\n",
    "\n",
    "Zmienne powinny być nazywane w sposób jednoznaczny i zrozumiały. Nie powinny być nadmiernie długi, a użyte słowa najlepiej oddzielać \" **_** \". Nazwa zmiennej powinna być tożsama z typem zmiennej lub zawierać komentarz w przypadku złożonych sytuacji. W Pythonie wielkość liter ma znaczenie, zmienna może zaczynać się od cyfry. Należy zwrócić szczególną uwagę w przypadku definiowania zmiennych o nazwach takich jak funkcje czy wbudowane typy, jest to niewskazane! Podobnie należy przyłożyć szczególna uwagę w przypadku zmiennych jednoliterowych / liczbowych, wszystko co może przypominać **1, I , O , 0** nie powinno być używane. \n",
    "\n",
    "**Przykłady:**\n",
    "\n",
    "\n",
    "```python\n",
    "temp_air #czytelna, jednoznaczna \n",
    "tempair  #nieczytelna\n",
    "tempAir  #nieczytelna\n",
    "\n",
    "DENSITY_OF_ARI = 1 # definiowanie stałych\n",
    "RH = 0.98          \n",
    "\n",
    "int = int('8') # Będzie błędem\n",
    "int_ = int('8') #W przypadku konieczności nadania zmiennej nazwy zbliżonej do funkcji zalecane jest dodanie \"_\" \n",
    "```\n",
    "\n",
    "\n",
    "\n",
    "\n",
    "\n",
    "\n"
   ]
  },
  {
   "cell_type": "markdown",
   "metadata": {
    "id": "M0KIzM3tEG65"
   },
   "source": [
    "# **Słowa klucze (keywords)**\n",
    "Są to słowa, które nie mogą być użyte do nazywania zmiennych. Python wykorzystuje te słowa do badania struktury programu.\n",
    "\n",
    "\n",
    "```python\n",
    "\n",
    "and       del       from      None      True\n",
    "as        elif      global    nonlocal  try\n",
    "assert    else      if        not       while\n",
    "break     except    import    or        with\n",
    "class     False     in        pass      yield\n",
    "continue  finally   is        raise     async\n",
    "def       for       lambda    return    await\n",
    "```"
   ]
  },
  {
   "cell_type": "markdown",
   "metadata": {
    "id": "F5sJ_ZEQFmhe"
   },
   "source": [
    "# **Typy zmiennych**\n",
    "\n",
    "**Stałe** (constants) to ciągi znaków lub cyfr, których wartości się nie zmieniają.\n",
    "Poniżej zostały przedstawione podstawowe typy zmiennych stosowanych w Pythonie."
   ]
  },
  {
   "cell_type": "code",
   "execution_count": null,
   "metadata": {
    "id": "jWfKs_moGSjs"
   },
   "outputs": [],
   "source": [
    "print(123)\n",
    "print(98.9)\n",
    "print(\"Zaczynamy !\")"
   ]
  },
  {
   "cell_type": "markdown",
   "metadata": {
    "id": "mrt5fdhSGbXl"
   },
   "source": [
    "## **Zmienna**\n",
    "\n",
    "Zmienną można utożsamiać z miejscem w pamięci komputera, któremu została przypisana przez użytkownika wartość. Podczas wywoływania zmiennej z programu odnosimy się do wcześniej wyznaczonego miejsca w pamięci komputera, który nazwaliśmy zgodnie z nazwą zmiennej.\n",
    "**Zmienna musi posiadać nazwę np. x,y,z ... oraz wartość**. Wartość zmiennej może być dowolnie modyfikowana.\n",
    "\n",
    "Wykorzystajmy teraz tą wiedzę w praktyce.\n",
    "\n",
    "W kodzie poniżej definiujemy zmienną ```x```, której przypisujemy wartość ```12.1```, zmiennej ```y``` przypisujemy wartość ```26.8```, a zmiennej ```z``` przypisujemy wartość ```56.9```. Uruchom poniższy kod i zastanów się co właściwie się wydarzyło. "
   ]
  },
  {
   "cell_type": "code",
   "execution_count": null,
   "metadata": {
    "id": "H9dTsCb0HbI7"
   },
   "outputs": [],
   "source": [
    "x = 12.1\n",
    "y = 26.8\n",
    "z = 56.9"
   ]
  },
  {
   "cell_type": "markdown",
   "metadata": {
    "id": "1OS1ji4XifTR"
   },
   "source": [
    "Po uruchomieniu powyższego fragmentu kodu \"nic\" się nie zadziało. Twoim oczom nie pojawiła się, żadna informacja. Dzieje się to dlatego, że nie poprosiliśmy Pythona, aby coś nam wypisał. Program przypisał zmiennym ```x,y,z``` podane wartości i zakończył swoje działanie.\n",
    "\n",
    "W celu sprawdzenia, czy program zrobił to o co go prosiliśmy, możemy skorzystać z wbudowanej funkcji ```print()```. Zadaniem tej funkcji jest wypisanie na ekranie użytkownika wskazanej wartości. Przyjrzyj się poniższej linijce kodu, a następnie ją uruchom. Co widzisz? Czy w miejsce zmiennych ```x,y,z``` zostały podstawione odpowiednie wartości liczbowe?"
   ]
  },
  {
   "cell_type": "code",
   "execution_count": null,
   "metadata": {
    "id": "D75g4WvAiMYo"
   },
   "outputs": [],
   "source": [
    "print(x, \"+\", y, \"+\", z, \"=\", x+y+z)"
   ]
  },
  {
   "cell_type": "markdown",
   "metadata": {
    "id": "aN4dFdJ-kE3C"
   },
   "source": [
    "Jak widzisz, program w miejsce zmiennych ```x,y,z``` podstawił zadane przez Ciebie wartości liczbowe. Przy okazji program obliczył sumę zdefiniowanych zmiennych. Czy możesz wskazać gdzie policzyliśmy sumę?\n",
    "```x+y+z``` to część powyższego kodu, która odpowiada za zsumowanie zmiennych.\n",
    "\n",
    "Sprawdźmy teraz co się stanie jeśli na nowo zdefiniujemy np. zmienna ```x``` i przypiszemy jej wartość ```0```. Wywołaj poniższe linijki kodu i zastanów się co się stało. Oblicz w pamięci czy otrzymany wynik jej poprawny."
   ]
  },
  {
   "cell_type": "code",
   "execution_count": null,
   "metadata": {
    "id": "7mhmlrIMiMrb"
   },
   "outputs": [],
   "source": [
    "x = 0\n",
    "print(x, \"+\", y, \"+\", z, \"=\", x+y+z)"
   ]
  },
  {
   "cell_type": "markdown",
   "metadata": {
    "id": "kCH1J0hElGdz"
   },
   "source": [
    "Jak widzisz, program podczas sumowania użył ```0``` zamiast ```12.1``` zgodnie z tym co mu podaliśmy. Przetestuj sam jaki byłby wynik odejmowania tych zmiennych od siebie.\n",
    "\n",
    "Czy wiesz co zyskujemy dzięki używaniu ``` \" \"``` wewnątrz funkcji ```print()```? Odpowiedź na to pytanie znajduje się w dalszej części tego notatnika. "
   ]
  },
  {
   "cell_type": "code",
   "execution_count": null,
   "metadata": {
    "id": "y_aw3lWclhc9"
   },
   "outputs": [],
   "source": [
    "# Miejsce na twój program wypisujący wynik odejmowania zmiennych od siebie. \n",
    "...\n"
   ]
  },
  {
   "cell_type": "markdown",
   "metadata": {
    "id": "L7BSK2VC4Ocj"
   },
   "source": [
    "## **String**\n",
    "\n",
    "Ciągi znaków (słowa, symbole, itp.) w Pythonie okalane są pojedynczym lub podwójnym apostrofem.\n",
    "\n",
    "Przypisująć jednej zmiennej 'hello', a kolejnej \"hello\" funckja ```print()``` wyświetli nam dokładnie to samo na ekranie. Sprawdźmy to w kodzie poniżej.\n"
   ]
  },
  {
   "cell_type": "code",
   "execution_count": null,
   "metadata": {
    "id": "75pDq6DgQEMS"
   },
   "outputs": [],
   "source": [
    "string_1 = \"hello\"\n",
    "string_2 = 'hello'\n",
    "print('To jest napis przypisany do zmiennej string_1 =', string_1)\n",
    "print('To jest napis przypisany do zmiennej string_2 =', string_2)"
   ]
  },
  {
   "cell_type": "markdown",
   "metadata": {
    "id": "YOCZ86YQqMz0"
   },
   "source": [
    "Czy widzisz jakąś różnicę pomiędzy wypisanymi słowami?\n",
    "\n",
    "Teraz napisz samodzielnie swój pierwszy program wypisujący na ekranie ``Hello, World!``. Możesz to zrobić w 2 linijkach kodu jak powyżej lub od razu w jednej linijce. Powodzenia !"
   ]
  },
  {
   "cell_type": "code",
   "execution_count": null,
   "metadata": {
    "id": "OQnwEExIqhsY",
    "tags": []
   },
   "outputs": [],
   "source": [
    "# Tu możesz napisać swój program\n",
    "...\n",
    "print(slowo)"
   ]
  },
  {
   "cell_type": "code",
   "execution_count": null,
   "metadata": {
    "deletable": false,
    "editable": false
   },
   "outputs": [],
   "source": [
    "grader.check(\"Q1\")"
   ]
  },
  {
   "cell_type": "markdown",
   "metadata": {
    "id": "pVLyVmrbYIDC"
   },
   "source": [
    "Wewnątrz funkcji ```print()``` słowa i zmienne oddzielaliśmy przy pomocy ``` , ``` \n",
    "Jest to zaprezentowane w oknie poniżej."
   ]
  },
  {
   "cell_type": "code",
   "execution_count": null,
   "metadata": {
    "id": "iGVwvC3hYHxV"
   },
   "outputs": [],
   "source": [
    "var_one = 1\n",
    "var_two = 2\n",
    "var_three = \"trzy\"\n",
    "print(var_three, 'odjąć', var_one, 'to', var_two)"
   ]
  },
  {
   "cell_type": "markdown",
   "metadata": {
    "id": "gCIPQ59VrmIy"
   },
   "source": [
    "Istnieją jednak jeszcze inne metody, pozwalające na formatowanie tekstu przed wypisaniem. Jedną z takich metod jest używanie ```({}).forma(zmienna)```. Przyjrzyj się dokładnie poniższej linijce kodu i zobacz jak działa ```.format```. "
   ]
  },
  {
   "cell_type": "code",
   "execution_count": null,
   "metadata": {
    "id": "CY8hL7MurCFj"
   },
   "outputs": [],
   "source": [
    "print('{} odjąć {} to {}'.format(var_three, var_one, var_two))"
   ]
  },
  {
   "cell_type": "markdown",
   "metadata": {
    "id": "enqyAb32s5dM"
   },
   "source": [
    "Jeszcze jedną alternatywą jest stosowanie ```f\"...{zmienna}...\" ```. Przyjrzyj się kolejnej linijce kodu i porównaj ją z ```.format()``` oraz \"zwykłym\" ```print()```."
   ]
  },
  {
   "cell_type": "code",
   "execution_count": null,
   "metadata": {
    "id": "yjmw3eU5q9aW"
   },
   "outputs": [],
   "source": [
    "print(f\"{var_three} odjąć {var_two} to {var_one}\")"
   ]
  },
  {
   "cell_type": "markdown",
   "metadata": {
    "id": "qYNd2iQrtK8f"
   },
   "source": [
    "Każda z powyższych linijek kodu wyświetla dokładnie ten sam napis na monitorze. Więcej szczegułów dotyczacych pracy ze \"stringami\" zostanie podana w dalszej części kursu. "
   ]
  },
  {
   "cell_type": "markdown",
   "metadata": {
    "id": "XjGfNCYPIoSP"
   },
   "source": [
    "## **Zdania lub linie**\n",
    "\n",
    "W Pythonie możliwe jest wykonywanie kilku operacji w ramach jednej linijki kodu:\n",
    "```python\n",
    "x = 2     # przypisanie do zmiennej \"x\" wartości 2\n",
    "x = x + 2 # przypisanie do zmiennej \"x\" sumu \"x\" i 2\n",
    "print(x)  # wypisanie na ekranie wartości zmiennej \"x\"\n",
    "```"
   ]
  },
  {
   "cell_type": "markdown",
   "metadata": {
    "id": "TphE4V25tuVF"
   },
   "source": [
    "W poniższych linijkach kodu możesz sprawdzić jak działają powyżej przytoczone przykłady. Czy wynik dodawania ```x+2``` jest zgodny z twoimi przypuszczeniami? "
   ]
  },
  {
   "cell_type": "code",
   "execution_count": null,
   "metadata": {
    "id": "79fv0o1QJS5z"
   },
   "outputs": [],
   "source": [
    "x = 2     \n",
    "x = x + 2 \n",
    "print(x)  "
   ]
  },
  {
   "cell_type": "markdown",
   "metadata": {
    "id": "5uOr9D5Ot-RN"
   },
   "source": [
    "Spróbuj zmodyfikować powyższe linijki kodu, tak aby otrzymać wynik dodawania równy 10. Co trzeba zmienić?"
   ]
  },
  {
   "cell_type": "code",
   "execution_count": null,
   "metadata": {
    "id": "K86t0OMEuIj6",
    "tags": []
   },
   "outputs": [],
   "source": [
    "# Tu jest miejsce na twój program\n",
    "y = 2\n",
    "...\n",
    "print(y) "
   ]
  },
  {
   "cell_type": "code",
   "execution_count": null,
   "metadata": {
    "deletable": false,
    "editable": false
   },
   "outputs": [],
   "source": [
    "grader.check(\"Q2\")"
   ]
  },
  {
   "cell_type": "markdown",
   "metadata": {
    "id": "qvTAE0RiJbSr"
   },
   "source": [
    "**Przypisanie wartości do zmiennej**\n",
    "Przypisanie wartości do zmiennej może być bardziej złożone niż podanie samej wartości lub obliczenie sumu np. \n",
    "```python\n",
    "z = 6\n",
    "z = 4 * z * (10 - z)\n",
    "\n",
    "```"
   ]
  },
  {
   "cell_type": "markdown",
   "metadata": {
    "id": "38OMdn7LKJN_"
   },
   "source": [
    "### **Zadanie 1**\n",
    "Oblicz wartość zmiennej \"x\" podanej powyżej na kartce papieru i następnie porównaj z wartością obliczoną w programie poniżej."
   ]
  },
  {
   "cell_type": "code",
   "execution_count": null,
   "metadata": {
    "id": "OcEopbEDKYB3",
    "tags": []
   },
   "outputs": [],
   "source": [
    "# Tu jest miejsce na twój program\n",
    "z = 6\n",
    "...\n",
    "print(z)"
   ]
  },
  {
   "cell_type": "code",
   "execution_count": null,
   "metadata": {
    "deletable": false,
    "editable": false
   },
   "outputs": [],
   "source": [
    "grader.check(\"Q3\")"
   ]
  },
  {
   "cell_type": "markdown",
   "metadata": {
    "id": "oiDgDXKTH5KT"
   },
   "source": [
    "## **Int i Float**\n",
    "\n",
    "**Int** - liczby całkowite\n",
    "\n",
    "**Float** - liczby zmiennoprzecinkowe\n",
    "\n",
    "Podstawowe operacje matematyczne, które będziemy powszechnie używali na dalszym etapie kursu możemy zapisać w sposób podany poniżej. \n",
    "\n",
    "Spróbuj policzyć na kartce operacje zawarte w liniach od 4 do 10 a następnie otrzymane wyniki porównaj z wynikami otrzymanymi po uruchomieniu programu. \n"
   ]
  },
  {
   "cell_type": "code",
   "execution_count": null,
   "metadata": {
    "id": "FGPH0ApfIVHS"
   },
   "outputs": [],
   "source": [
    "a = 2\n",
    "b = 7\n",
    "\n",
    "print(a+b)   #Dodawanie\n",
    "print(a-b)   #Odejmowanie\n",
    "print(a*b)   #Mnożenie\n",
    "print(a/b)   #Dzielenie\n",
    "print(b//a)  #Dzielenie bez reszty\n",
    "print(a**b)  #Potęgowanie\n",
    "print(a % b) #Reszta z dzielenia,\n",
    "\n",
    "from math import sqrt, cos, sin   # Z biblioteki math importujemy potrzebne funckje\n",
    "print(pow(a,b))  #Potęgowanie z biblioteki\n",
    "print(cos(a*b))  #Funkcja cosinus\n",
    "# print(a / 0)  "
   ]
  },
  {
   "cell_type": "markdown",
   "metadata": {
    "id": "q21UdTzXLRPY"
   },
   "source": [
    "Odkomentuj ostatnią linię kodu i ponownie uruchom program. Zastanów się co wyświetla się na ekranie. Czemu tak się dzieje?"
   ]
  },
  {
   "cell_type": "markdown",
   "metadata": {
    "id": "ZqZn8RzdH_83"
   },
   "source": [
    "W języku Python występuje praktycznie nieskończona liczba bibliotek. Biblioteki to zbiór wcześniej napisanych funkcji, które możemy zaimportować do naszego programu bez potrzeby ich definiowania. Jest to wielce przydatne podczas codziennego korzystania z języka python. Najczęściej funkcje zawarte w bibliotekach są napisane w sposób optymalny i minimalizują możliwość popełnienia błędu. "
   ]
  },
  {
   "cell_type": "markdown",
   "metadata": {
    "id": "IOUNki81LzLk"
   },
   "source": [
    "## **Kolejność wykonywania działań**\n",
    "\n",
    "\n",
    "1.   Działania w nawiasach (Parenthesis)\n",
    "2.   Potęgowanie (Power)\n",
    "3.   Mnożenie (Multiplication)\n",
    "4.   Dodawanie (Addition)\n",
    "5.   Od lewej do prawej (Left to Right)\n",
    "\n",
    "**Pamiętej!**\n",
    "\n",
    "\n",
    "*   Python korzysta z kolejności wykonywania działań;\n",
    "*   Pisząc program używając nawiasów;\n",
    "*   Używaj prostych operacji matematycznych, łatwych do interpretacji;\n",
    "*   Pilnuj przejrzystości twojego programu.\n",
    "\n",
    "\n",
    "\n",
    "```python\n",
    "x = 15\n",
    "x = (x - 13) ** 2 + x / 3 - (63 / 7) ** 0.5 *2\n",
    "\n",
    "```"
   ]
  },
  {
   "cell_type": "markdown",
   "metadata": {
    "id": "r4eRHbqtNOLS"
   },
   "source": [
    "### Zadanie 2\n",
    "Wykonaj obliczenia zgodne z powyższym fragemntem kodu. Podaj wartość zmiennej x.\n"
   ]
  },
  {
   "cell_type": "code",
   "execution_count": null,
   "metadata": {
    "cellView": "form",
    "id": "XrSUIn5oNaGd",
    "tags": []
   },
   "outputs": [],
   "source": [
    "# Tu jest miejsce na twój program\n",
    "x = 15\n",
    "...\n",
    "print(x)"
   ]
  },
  {
   "cell_type": "code",
   "execution_count": null,
   "metadata": {
    "deletable": false,
    "editable": false
   },
   "outputs": [],
   "source": [
    "grader.check(\"Q4\")"
   ]
  },
  {
   "cell_type": "markdown",
   "metadata": {
    "id": "OpcKCOCsO3vf"
   },
   "source": [
    "Python podczas przypisywania wartości do zmiennej rozpoznaj jej typ. Typ zmiennej można w łatwy sposób sprawdzić przy pomocy ``` type(nazwa_zmiennej)```. W obrębie zmiennych tego samego typu dozwolone są niektóre operacje np. dodawanie i mnożenie. Nie można wykonywać operacji między innymi typami zmiennych!\n",
    "\n",
    "W części kodu poniżej przetestuj jaki typ zmiennej został przypisany poszczególnym zmiennym oraz jakie operacje są dozwolone. Zwróć uwagę jakie operacje są dozwolone dla określonych typów zmiennych. Czy widzisz jakąś zależność?"
   ]
  },
  {
   "cell_type": "code",
   "execution_count": null,
   "metadata": {
    "id": "pLpNeWHzJxM1"
   },
   "outputs": [],
   "source": [
    "zmienna_1 = 'dwa'\n",
    "zmienna_2 = \"trzy\"\n",
    "zmienna_3 = 5.6\n",
    "zmienna_4 = 5\n",
    "zmienna_5 = 78.0\n",
    "zmienna_6 = 6"
   ]
  },
  {
   "cell_type": "code",
   "execution_count": null,
   "metadata": {
    "id": "6ZFg9U_sQn-6"
   },
   "outputs": [],
   "source": [
    "zmienna_1 = 'dwa'\n",
    "zmienna_2 = \"trzy\"\n",
    "zmienna_3 = 5.6\n",
    "zmienna_4 = 5\n",
    "zmienna_5 = 78.0\n",
    "zmienna_6 = 6\n",
    "print(' zmienna_1 jej typ to ',type(zmienna_1),'\\n',\n",
    "      'zmienna_2 jej typ to ',type(zmienna_2),'\\n',\n",
    "      'zmienna_3 jej typ to ',type(zmienna_3),'\\n',\n",
    "      'zmienna_4 jej typ to ',type(zmienna_4),'\\n',\n",
    "      'zmienna_5 jej typ to ',type(zmienna_5),'\\n',\n",
    "      'zmienna_6 jej typ to ',type(zmienna_6)) \n",
    "\n",
    "## Operacje na zmiennych typu string - bez potęgowania, dzielenia i odejmowania\n",
    "print(zmienna_1 + zmienna_2) # dodawanie   \n",
    "#print(zmienna_1 - zmienna_2) # TAK NIE MOŻNA ROBIĆ!!!!\n",
    "#print(zmienna_1 * zmienna_2)  # TAK NIE MOŻNA ROBIĆ!!!\n",
    "print(zmienna_1*2 + zmienna_2*6)\n",
    "\n",
    "##Operacje na zmiennych typu float\n",
    "print(zmienna_3 + zmienna_5)\n",
    "print(zmienna_3 / zmienna_5)\n",
    "print(zmienna_3 * zmienna_5)\n",
    "print(zmienna_3 - zmienna_5)\n",
    "print(zmienna_3 ** zmienna_5)\n",
    "print(zmienna_3 // zmienna_5)\n",
    "print(zmienna_3 % zmienna_5)\n",
    "\n",
    "##Operacje na zmiennych typu int zostały omówione już wcześniej\n"
   ]
  },
  {
   "cell_type": "markdown",
   "metadata": {
    "id": "AON7bU_qKL1J"
   },
   "source": [
    "Jak słowami możesz opisać to co wydarzyło się odpowiednio w liniach: 15 i 18? "
   ]
  },
  {
   "cell_type": "markdown",
   "metadata": {
    "id": "-TK1StBGSii4"
   },
   "source": [
    "## **Konwersja(zmiana) typu zmiennej**\n",
    "W niektórych przypadkach możliwa jest zmiana typu zmiennej na bardziej przez nas pożądany.\n",
    "\n",
    "```python\n",
    "float(99) -> 99.0\n",
    "int(99.0) -> 99\n",
    "str(99.0) -> '99.0'\n",
    "```"
   ]
  },
  {
   "cell_type": "markdown",
   "metadata": {
    "id": "uvyWm2uJK3Wk"
   },
   "source": [
    "Poniżej możesz przetestować konwersję typów zmiennych. Zwróć uwagę na rodzaj zmiennych poddawanych konwersji. Zastanów się czy dowolną zmienną można poddać konwersji na dowolny inny typ. "
   ]
  },
  {
   "cell_type": "code",
   "execution_count": null,
   "metadata": {
    "id": "MRDwUZghTJLP"
   },
   "outputs": [],
   "source": [
    "moj_str = '99.01' # przykładowy string\n",
    "moj_str2 = '123' # przykładowy string dobry do zamiany na int\n",
    "moj_int = 99     # przykładowy Int\n",
    "moj_float = 99.03 # przykładowy Float\n",
    "print(type(float(moj_str))) # zamiana str na float\n",
    "print(type(float(moj_int))) # zamiana int na float\n",
    "print(type(int(moj_float))) # zamiana float na int\n",
    "print(type(int(moj_str2)))  # zamiana str na int\n",
    "print(type(str(moj_float))) # zamiana float na str\n",
    "print(type(str(moj_int)))   # zamiana int na str"
   ]
  },
  {
   "cell_type": "markdown",
   "metadata": {
    "id": "ekAmFTYmUkoG"
   },
   "source": [
    "# **USER Input**\n",
    "User Input ```input()``` to zdolność Pythona do zatrzymania programu i poproszenia użytkownika o podanie wartości, która następnie zgodnie z formułą programu zostanie wykorzystana w kodzie. **UWAGA** ```input()``` zwraca zmienną typu string.\n",
    "\n",
    "Poniżej przetestujmy jak działa funkcja ```input()```. Uruchom program i postępuj zgodnie z wyświetlanymi poleceniami."
   ]
  },
  {
   "cell_type": "code",
   "execution_count": null,
   "metadata": {
    "id": "MgiFExOdVdHU"
   },
   "outputs": [],
   "source": [
    "imie = input('Podaj swoje imię ')\n",
    "print(type(imie))\n",
    "print(\"Masz na imię\", imie)"
   ]
  },
  {
   "cell_type": "markdown",
   "metadata": {
    "id": "xTlao2sDPbiZ"
   },
   "source": [
    "W powyższych 3 linijkach poprosiliśmy użytkownika o wprowadzenie ciągu znaków przy pomocy klawiatury (podaliśmy swoje imię). Następnie wprowadzony ciąg znaków został przypisany zmiennej ```imie```. w kolejnej linii sprawdziliśmy jakim typem zmiennej jest zmienna ```imie```, a na sam koniec wypisaliśmy zmienną ```imie``` na ekranie.  \n",
    "\n",
    "Sprawdź co się stanie jeśli zamiast swojego imienia podasz dowolną liczbę całkowitą, a w kolejnej próbie liczbę zmiennoprzecinkową. Czy na podstawie tych testów możesz wyciągnąć jakiś wniosek?"
   ]
  },
  {
   "cell_type": "markdown",
   "metadata": {
    "id": "XZPue-jhVrkH"
   },
   "source": [
    "**Zamiana zmiennej wczytanie przy użyciu input()**\n",
    "\n",
    "\n",
    "W celu zamiany zmiennej wczytywanej przy użyciu ```input()```, należy przewidzieć lub jednoznacznie zakomunikować użytnikowi pożądany zakres wartości wprowadzanej wartości."
   ]
  },
  {
   "cell_type": "code",
   "execution_count": null,
   "metadata": {
    "id": "0yeIwGJQV913"
   },
   "outputs": [],
   "source": [
    "print('Drogi użytkowniku podaj liczbę całkowitą z zakresu 0 do 10')\n",
    "liczba = input(\"Proszę podaj liczbę z zakresu 0 do 10 \")\n",
    "print('Wartość twojej liczby pomnożona przez 10', liczba*10) # bez zamiany typu zmiennej\n",
    "print('Wartość twojej liczby pomnożona przez 10', int(liczba)*10) # po zamianie typu zmiennej"
   ]
  },
  {
   "cell_type": "markdown",
   "metadata": {
    "id": "dT9Oa_3RQupm"
   },
   "source": [
    "Jak myślisz czemu linia 3 i linia 4 nie wypisują tego samego na ekranie komputera? Jaka operacja ma miejsce w 3 linijce kodu, a jaka w 4? "
   ]
  },
  {
   "cell_type": "markdown",
   "metadata": {
    "id": "LaMA5Pqij1As"
   },
   "source": [
    "#### **Zadanie 3**\n",
    "\n",
    "Napisz program, w którym:\n",
    "\n",
    "\n",
    "*   prosisz użytkownika o podanie ilości przepracowanych godzin\n",
    "*   prosisz użytkownika o podanie wynagrodzenia za godzinę pracy\n",
    "*   oblicz i wypisz na ekranie ile pieniędzy zarobi użytkownik\n",
    "\n",
    "Zwróć uwagę na poprawną konstrukcję poleceń oraz na przejrzystość swojego rozwiązania.\n",
    "\n"
   ]
  },
  {
   "cell_type": "code",
   "execution_count": null,
   "metadata": {
    "cellView": "form",
    "id": "SQMRBsXSm9kf",
    "tags": []
   },
   "outputs": [],
   "source": [
    "# Tu jest miejsce na twój program\n",
    "ilosc_godzin = input(\"Podaj ilość przepracowanych godzin \")\n",
    "stawka_godzinowa = input(\"Podaj wynagrodzenie za godzinę pracy \")\n",
    "\n",
    "wynagrodzenie = ...\n",
    "\n",
    "print(\"Twoje wynagordzenie wynosi = \",round(wynagrodzenie,3))"
   ]
  },
  {
   "cell_type": "code",
   "execution_count": null,
   "metadata": {
    "deletable": false,
    "editable": false
   },
   "outputs": [],
   "source": [
    "grader.check(\"Q5\")"
   ]
  },
  {
   "cell_type": "markdown",
   "metadata": {
    "id": "qc_yd33Tl7Mm"
   },
   "source": [
    "#### **Zadanie 4**\n",
    "\n",
    "Napisz program proszący użytkownika o podanie dwóch liczb a i b i wypisujący:\n",
    "\n",
    "\n",
    "1.   ich sumę\n",
    "2.   różnicę\n",
    "\n",
    "1.   iloczyn\n",
    "2.   iloraz\n",
    "\n",
    "1.   pierwiastek z sumy a i b (pierwiastek z a ``` sqrt(a)```)\n",
    "2.   a do potęgi b oraz b do potęgi a (a do potęgi 2 ```pow(a,2)```)\n",
    "\n",
    "W tym celu skorzystaj z biblioteki math i zaimportuj przydatne funkcję w następujący sposób:\n",
    "```python\n",
    "from math import exp, log, sqrt, pi, erf, cos, pow\n",
    "\n",
    "```\n",
    "\n",
    "\n",
    "\n",
    "\n",
    "\n",
    "\n"
   ]
  },
  {
   "cell_type": "markdown",
   "metadata": {
    "id": "5LYnnNOQl8O0"
   },
   "source": [
    "\n",
    "Poniżej znajduje się prawidłowe rozwiązanie"
   ]
  },
  {
   "cell_type": "code",
   "execution_count": null,
   "metadata": {
    "cellView": "form",
    "id": "0JYoDiYTmukO",
    "tags": []
   },
   "outputs": [],
   "source": [
    "# Tu jest miejsce na twój program\n",
    "from math import exp, log, sqrt, pi, erf, cos, pow\n",
    "\n",
    "a = float(input(\"podaj a = \"))\n",
    "b = float(input(\"podaj b = \"))\n",
    "\n",
    "\n",
    "suma = ...\n",
    "roznica_a_b = ...\n",
    "roznica_b_a = ...\n",
    "iloczyn = ...\n",
    "iloraz_a_b = ...\n",
    "iloraz_b_a = ...\n",
    "bez_reszty_a_b = ...\n",
    "bez_reszty_b_a = ...\n",
    "reszta_a_b = ...\n",
    "reszta_b_a = ...\n",
    "sqrt_suma = ...\n",
    "a_to_pow_b = ...\n",
    "b_to_pow_a = ...\n",
    "print(\"suma (a+b) = \" + str(suma))\n",
    "print(\"różnica (a-b) = \" + str(roznica_a_b) + \" lub (b-a) = \" + str(roznica_b_a))\n",
    "print(\"iloczyn = \" + str(iloczyn))\n",
    "print(\"iloraz (a/b) = \" + str(iloraz_a_b) + \" lub (b/a) = \" + str(iloraz_b_a ))\n",
    "print(\"dzielenie bez reszty (a//b) = \" +str(bez_reszty_a_b) + \" lub (b//a) = \" +str(bez_reszty_b_a)) \n",
    "print(\"reszta z dzielenia (a%b) = \" +str(reszta_a_b) + \" lub (b%a) = \" +str(reszta_b_a))\n",
    "print(\"pierwiastek z sumy = \" + str(sqrt_suma))\n",
    "print(\"a^b = \" + str(a_to_pow_b) + \" b^a = \" + str(b_to_pow_a))"
   ]
  },
  {
   "cell_type": "code",
   "execution_count": null,
   "metadata": {
    "deletable": false,
    "editable": false
   },
   "outputs": [],
   "source": [
    "grader.check(\"Q6\")"
   ]
  },
  {
   "cell_type": "markdown",
   "metadata": {
    "id": "a-vqzKW5nSJU"
   },
   "source": [
    "### **Zadanie domowe**\n",
    "\n",
    "W pewnej firmie, która zajmuje się pomocą w odrabianiu lekcji dla dzieci pracuje 4 nauczycieli. W zależności od poziomu edukacji obowiązują inne stawki godzinowe, odpowiednia : klasy 1-3 40zł/1h, klasy 4-8 50zł/1h, liceum 1-3 70zł/1h i w klasie maturalnej 80zł/1h. \n",
    "\n",
    "Nauczyciel_1 w ciągu miesiąca przepracował 30 godzin z dziećmi z klas 1-3, Nauczyciel_2 w tym samym miesiącu przepracował 30h z dziećmi z klas 4-8 oraz 15 godzin z uczniami liceum z klas 1-3. Nauczyciel_3 pracuje z uczniami maturalnymi w wymiarze 50 godzin miesięcznie. Nauczyciel_4 przepracował po 13 godzin na każdym z poziomów nauki. \n",
    "\n",
    "Oblicz:\n",
    "\n",
    "\n",
    "1.   Miesięczne wynagrodzenie każdego z nauczycieli;\n",
    "2.   Średnią ilość godzin przypadającą na każdego z nauczycieli w tej firmie;\n",
    "3.   Średnie wynagrodzenie w tej firmie;\n",
    "4.   Zysk firmy z prowadzonych zajęć przy założeniu, że za każdą godzinę zajęć firma zarabia tyle ile użytkownik wprowadzi (```input()```). \n",
    "\n",
    "\n",
    "\n",
    "Zadbaj nie tylko o poprawność wyników, ale także o czytelność kodu i komunikację z użytkownikiem. Użyj funkcji matematycznych z biblioteki math jeśli będzie to konieczne.\n",
    "\n",
    "Poniżej został przygotowany szkielet programu. Nie zmieniaj napisów wewnatrz funckji ```print()```"
   ]
  },
  {
   "cell_type": "code",
   "execution_count": null,
   "metadata": {
    "id": "QF0XKHg0hsJg",
    "tags": []
   },
   "outputs": [],
   "source": [
    "#Stawka godzinowa\n",
    "stawka_1_3 = ...\n",
    "stawka_4_8 = ...\n",
    "stawka_liceum = ...\n",
    "stawka_matura = ...\n",
    "#Przperacowane godziny\n",
    "N_1_godz_1_3 = ...\n",
    "N_2_godz_1_3 = ...\n",
    "N_2_godz_4_8 = ...\n",
    "N_3_godz_matura = ...\n",
    "N_4_godz_1_3 = ...\n",
    "N_4_godz_4_8 = ...\n",
    "N_4_godz_liceum = ...\n",
    "N_4_godz_matura = ...\n",
    "#Zarobek nauczyciela\n",
    "zarobek_N_1 = ...\n",
    "zarobek_N_2 = ...\n",
    "zarobek_N_3 = ...\n",
    "zarobek_N_4 = ...\n",
    "\n",
    "print('Zadanie 1')\n",
    "print('Miesieczne wynagordzenie Nauczyciela_1 wynosi ', zarobek_N_1)\n",
    "print('Miesieczne wynagordzenie Nauczyciela_2 wynosi ', zarobek_N_2)\n",
    "print('Miesieczne wynagordzenie Nauczyciela_3 wynosi ', zarobek_N_3)\n",
    "print('Miesieczne wynagordzenie Nauczyciela_4 wynosi ', zarobek_N_4)\n",
    "\n",
    "#Obliczanie średniej ilości godzin\n",
    "suma_godzin = ...\n",
    "srednia_na_nauczyciela = ...\n",
    "\n",
    "print('Zadanie 2')\n",
    "print(\"Średnia ilość godzin przypadająca na nauczyciela wynosi\", srednia_na_nauczyciela, \"godzin\")\n",
    "\n",
    "#Obliczanie średniego wynagrodzenia\n",
    "\n",
    "suma_zarobkow = ...\n",
    "srednie_wynagrodzenie = ...\n",
    "print('Zadanie 3')\n",
    "print(\"Średnie wynagrodzenie przypadające na nauczyciela wynosi\", srednie_wynagrodzenie, \"zł\")\n",
    "\n",
    "#Obliczanie zysku firmy z prowadzonych zajęć\n",
    "\n",
    "profit_z_godziny = float(input(\"Podaj zysk firmy z każdej godizny zajęć \"))\n",
    "zysk_firmy = ...\n",
    "print('Zadanie 4')\n",
    "print(\"Miesięczny zysk firmy wynosi\", zysk_firmy)\n"
   ]
  },
  {
   "cell_type": "code",
   "execution_count": null,
   "metadata": {
    "deletable": false,
    "editable": false
   },
   "outputs": [],
   "source": [
    "grader.check(\"Q7\")"
   ]
  }
 ],
 "metadata": {
  "colab": {
   "collapsed_sections": [],
   "name": "week_2.ipynb",
   "provenance": [],
   "toc_visible": true
  },
  "kernelspec": {
   "display_name": "Python 3",
   "language": "python",
   "name": "python3"
  },
  "language_info": {
   "codemirror_mode": {
    "name": "ipython",
    "version": 3
   },
   "file_extension": ".py",
   "mimetype": "text/x-python",
   "name": "python",
   "nbconvert_exporter": "python",
   "pygments_lexer": "ipython3",
   "version": "3.9.7"
  }
 },
 "nbformat": 4,
 "nbformat_minor": 0
}
